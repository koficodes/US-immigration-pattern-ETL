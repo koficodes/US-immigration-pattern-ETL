{
 "cells": [
  {
   "cell_type": "markdown",
   "metadata": {
    "editable": true
   },
   "source": [
    "## US IMMIGRATION PATTERNS WITH RELATION TO TEMPERATURE AND CITY DEMOGRAPHICS"
   ]
  },
  {
   "cell_type": "markdown",
   "metadata": {
    "editable": true
   },
   "source": [
    "#### PROJECT SUMMARY"
   ]
  },
  {
   "cell_type": "markdown",
   "metadata": {
    "editable": true
   },
   "source": [
    "The goal of the project is to provide an organized database to aid in the studies of the US immigrations partterns."
   ]
  },
  {
   "cell_type": "markdown",
   "metadata": {
    "editable": true
   },
   "source": [
    "#### Project Scope"
   ]
  },
  {
   "cell_type": "markdown",
   "metadata": {
    "editable": true
   },
   "source": [
    "This project will combine data from various sources which are needed for the analysis.\n",
    "The data is processed using spark and are saved as parquet files on Amazon S3\n",
    "which can later used in a form of schema on read."
   ]
  },
  {
   "cell_type": "markdown",
   "metadata": {
    "editable": true
   },
   "source": [
    "#### Data Used for this Project"
   ]
  },
  {
   "cell_type": "markdown",
   "metadata": {
    "editable": true
   },
   "source": [
    "- **U.S. City Demographic Data**:  comes from OpenSoft and includes data by city, state, age, population, veteran status and race [link](https://public.opendatasoft.com/explore/dataset/us-cities-demographics/export/)\n",
    "- **I94 Immigration Data**: comes from the US National Tourism and Trade Office and includes details on incoming immigrants and their ports ofentry [link](https://travel.trade.gov/research/reports/i94/historical/2016.html)\n",
    "- **World Temperature Data**: from Kaggle [link](https://www.kaggle.com/berkeleyearth/climate-change-earth-surface-temperature-data)\n",
    "- **Airports**: from Github [link](https://raw.githubusercontent.com/L1fescape/airport-codes/master/airports.json)"
   ]
  },
  {
   "cell_type": "markdown",
   "metadata": {
    "editable": true
   },
   "source": [
    "### Data Access and Exploration"
   ]
  },
  {
   "cell_type": "code",
   "execution_count": 3,
   "metadata": {
    "editable": true
   },
   "outputs": [],
   "source": [
    "from pyspark.sql import SparkSession\n",
    "spark = SparkSession.builder.\\\n",
    "config(\"spark.jars.packages\",\"saurfang:spark-sas7bdat:2.0.0-s_2.11\")\\\n",
    ".enableHiveSupport().getOrCreate()"
   ]
  },
  {
   "cell_type": "markdown",
   "metadata": {
    "editable": true
   },
   "source": [
    "#### Explore Immigration data"
   ]
  },
  {
   "cell_type": "code",
   "execution_count": 4,
   "metadata": {
    "editable": true
   },
   "outputs": [],
   "source": [
    "us_immigration = spark.read.parquet(\"sas_data\")"
   ]
  },
  {
   "cell_type": "code",
   "execution_count": 5,
   "metadata": {
    "editable": true
   },
   "outputs": [
    {
     "data": {
      "text/plain": [
       "Row(cicid=5748517.0, i94yr=2016.0, i94mon=4.0, i94cit=245.0, i94res=438.0, i94port='LOS', arrdate=20574.0, i94mode=1.0, i94addr='CA', depdate=20582.0, i94bir=40.0, i94visa=1.0, count=1.0, dtadfile='20160430', visapost='SYD', occup=None, entdepa='G', entdepd='O', entdepu=None, matflag='M', biryear=1976.0, dtaddto='10292016', gender='F', insnum=None, airline='QF', admnum=94953870030.0, fltno='00011', visatype='B1')"
      ]
     },
     "execution_count": 5,
     "metadata": {},
     "output_type": "execute_result"
    }
   ],
   "source": [
    "us_immigration.head()"
   ]
  },
  {
   "cell_type": "code",
   "execution_count": 6,
   "metadata": {
    "editable": true
   },
   "outputs": [
    {
     "name": "stdout",
     "output_type": "stream",
     "text": [
      "root\n",
      " |-- cicid: double (nullable = true)\n",
      " |-- i94yr: double (nullable = true)\n",
      " |-- i94mon: double (nullable = true)\n",
      " |-- i94cit: double (nullable = true)\n",
      " |-- i94res: double (nullable = true)\n",
      " |-- i94port: string (nullable = true)\n",
      " |-- arrdate: double (nullable = true)\n",
      " |-- i94mode: double (nullable = true)\n",
      " |-- i94addr: string (nullable = true)\n",
      " |-- depdate: double (nullable = true)\n",
      " |-- i94bir: double (nullable = true)\n",
      " |-- i94visa: double (nullable = true)\n",
      " |-- count: double (nullable = true)\n",
      " |-- dtadfile: string (nullable = true)\n",
      " |-- visapost: string (nullable = true)\n",
      " |-- occup: string (nullable = true)\n",
      " |-- entdepa: string (nullable = true)\n",
      " |-- entdepd: string (nullable = true)\n",
      " |-- entdepu: string (nullable = true)\n",
      " |-- matflag: string (nullable = true)\n",
      " |-- biryear: double (nullable = true)\n",
      " |-- dtaddto: string (nullable = true)\n",
      " |-- gender: string (nullable = true)\n",
      " |-- insnum: string (nullable = true)\n",
      " |-- airline: string (nullable = true)\n",
      " |-- admnum: double (nullable = true)\n",
      " |-- fltno: string (nullable = true)\n",
      " |-- visatype: string (nullable = true)\n",
      "\n"
     ]
    }
   ],
   "source": [
    "us_immigration.printSchema()"
   ]
  },
  {
   "cell_type": "code",
   "execution_count": 7,
   "metadata": {
    "editable": true
   },
   "outputs": [
    {
     "name": "stdout",
     "output_type": "stream",
     "text": [
      "+---------+------+------+------+------+-------+-------+-------+-------+-------+------+-------+-----+--------+--------+-----+-------+-------+-------+-------+-------+--------+------+------+-------+--------------+-----+--------+\n",
      "|    cicid| i94yr|i94mon|i94cit|i94res|i94port|arrdate|i94mode|i94addr|depdate|i94bir|i94visa|count|dtadfile|visapost|occup|entdepa|entdepd|entdepu|matflag|biryear| dtaddto|gender|insnum|airline|        admnum|fltno|visatype|\n",
      "+---------+------+------+------+------+-------+-------+-------+-------+-------+------+-------+-----+--------+--------+-----+-------+-------+-------+-------+-------+--------+------+------+-------+--------------+-----+--------+\n",
      "|5748517.0|2016.0|   4.0| 245.0| 438.0|    LOS|20574.0|    1.0|     CA|20582.0|  40.0|    1.0|  1.0|20160430|     SYD| null|      G|      O|   null|      M| 1976.0|10292016|     F|  null|     QF|9.495387003E10|00011|      B1|\n",
      "|5748518.0|2016.0|   4.0| 245.0| 438.0|    LOS|20574.0|    1.0|     NV|20591.0|  32.0|    1.0|  1.0|20160430|     SYD| null|      G|      O|   null|      M| 1984.0|10292016|     F|  null|     VA|9.495562283E10|00007|      B1|\n",
      "|5748519.0|2016.0|   4.0| 245.0| 438.0|    LOS|20574.0|    1.0|     WA|20582.0|  29.0|    1.0|  1.0|20160430|     SYD| null|      G|      O|   null|      M| 1987.0|10292016|     M|  null|     DL|9.495640653E10|00040|      B1|\n",
      "|5748520.0|2016.0|   4.0| 245.0| 438.0|    LOS|20574.0|    1.0|     WA|20588.0|  29.0|    1.0|  1.0|20160430|     SYD| null|      G|      O|   null|      M| 1987.0|10292016|     F|  null|     DL|9.495645143E10|00040|      B1|\n",
      "|5748521.0|2016.0|   4.0| 245.0| 438.0|    LOS|20574.0|    1.0|     WA|20588.0|  28.0|    1.0|  1.0|20160430|     SYD| null|      G|      O|   null|      M| 1988.0|10292016|     M|  null|     DL|9.495638813E10|00040|      B1|\n",
      "|5748522.0|2016.0|   4.0| 245.0| 464.0|    HHW|20574.0|    1.0|     HI|20579.0|  57.0|    2.0|  1.0|20160430|     ACK| null|      G|      O|   null|      M| 1959.0|10292016|     M|  null|     NZ|9.498180283E10|00010|      B2|\n",
      "|5748523.0|2016.0|   4.0| 245.0| 464.0|    HHW|20574.0|    1.0|     HI|20586.0|  66.0|    2.0|  1.0|20160430|     ACK| null|      G|      O|   null|      M| 1950.0|10292016|     F|  null|     NZ|9.497968993E10|00010|      B2|\n",
      "|5748524.0|2016.0|   4.0| 245.0| 464.0|    HHW|20574.0|    1.0|     HI|20586.0|  41.0|    2.0|  1.0|20160430|     ACK| null|      G|      O|   null|      M| 1975.0|10292016|     F|  null|     NZ|9.497974673E10|00010|      B2|\n",
      "|5748525.0|2016.0|   4.0| 245.0| 464.0|    HOU|20574.0|    1.0|     FL|20581.0|  27.0|    2.0|  1.0|20160430|     ACK| null|      G|      O|   null|      M| 1989.0|10292016|     M|  null|     NZ|9.497324663E10|00028|      B2|\n",
      "|5748526.0|2016.0|   4.0| 245.0| 464.0|    LOS|20574.0|    1.0|     CA|20581.0|  26.0|    2.0|  1.0|20160430|     ACK| null|      G|      O|   null|      M| 1990.0|10292016|     F|  null|     NZ|9.501354793E10|00002|      B2|\n",
      "+---------+------+------+------+------+-------+-------+-------+-------+-------+------+-------+-----+--------+--------+-----+-------+-------+-------+-------+-------+--------+------+------+-------+--------------+-----+--------+\n",
      "only showing top 10 rows\n",
      "\n"
     ]
    }
   ],
   "source": [
    "us_immigration.show(10)"
   ]
  },
  {
   "cell_type": "markdown",
   "metadata": {
    "editable": true
   },
   "source": [
    "#### Selecting relevant columns"
   ]
  },
  {
   "cell_type": "code",
   "execution_count": 8,
   "metadata": {
    "editable": true
   },
   "outputs": [
    {
     "name": "stdout",
     "output_type": "stream",
     "text": [
      "+------+------+------+-------+-------+------+-------+-------+-------+------+\n",
      "| i94yr|i94mon|i94cit|i94port|i94mode|i94bir|arrdate|depdate|i94visa|gender|\n",
      "+------+------+------+-------+-------+------+-------+-------+-------+------+\n",
      "|2016.0|   4.0| 245.0|    LOS|    1.0|  40.0|20574.0|20582.0|    1.0|     F|\n",
      "|2016.0|   4.0| 245.0|    LOS|    1.0|  32.0|20574.0|20591.0|    1.0|     F|\n",
      "|2016.0|   4.0| 245.0|    LOS|    1.0|  29.0|20574.0|20582.0|    1.0|     M|\n",
      "|2016.0|   4.0| 245.0|    LOS|    1.0|  29.0|20574.0|20588.0|    1.0|     F|\n",
      "|2016.0|   4.0| 245.0|    LOS|    1.0|  28.0|20574.0|20588.0|    1.0|     M|\n",
      "|2016.0|   4.0| 245.0|    HHW|    1.0|  57.0|20574.0|20579.0|    2.0|     M|\n",
      "|2016.0|   4.0| 245.0|    HHW|    1.0|  66.0|20574.0|20586.0|    2.0|     F|\n",
      "|2016.0|   4.0| 245.0|    HHW|    1.0|  41.0|20574.0|20586.0|    2.0|     F|\n",
      "|2016.0|   4.0| 245.0|    HOU|    1.0|  27.0|20574.0|20581.0|    2.0|     M|\n",
      "|2016.0|   4.0| 245.0|    LOS|    1.0|  26.0|20574.0|20581.0|    2.0|     F|\n",
      "|2016.0|   4.0| 245.0|    NEW|    1.0|  44.0|20574.0|20576.0|    2.0|     M|\n",
      "|2016.0|   4.0| 245.0|    LOS|    1.0|  39.0|20574.0|20575.0|    2.0|     M|\n",
      "|2016.0|   4.0| 245.0|    WAS|    1.0|  38.0|20574.0|20596.0|    2.0|     M|\n",
      "|2016.0|   4.0| 245.0|    LOS|    1.0|  56.0|20574.0|20577.0|    2.0|     F|\n",
      "|2016.0|   4.0| 245.0|    LOS|    1.0|  38.0|20574.0|20577.0|    2.0|     M|\n",
      "|2016.0|   4.0| 245.0|    MIA|    1.0|  53.0|20574.0|20581.0|    2.0|     F|\n",
      "|2016.0|   4.0| 245.0|    SFR|    1.0|  84.0|20574.0|   null|    2.0|     F|\n",
      "|2016.0|   4.0| 245.0|    HOU|    1.0|  43.0|20574.0|20583.0|    1.0|     M|\n",
      "|2016.0|   4.0| 245.0|    HOU|    1.0|  30.0|20574.0|20583.0|    1.0|     F|\n",
      "|2016.0|   4.0| 245.0|    LOS|    1.0|  34.0|20574.0|20575.0|    2.0|     M|\n",
      "|2016.0|   4.0| 245.0|    DAL|    1.0|  30.0|20574.0|20578.0|    2.0|     F|\n",
      "|2016.0|   4.0| 245.0|    NYC|    1.0|  28.0|20573.0|20575.0|    2.0|     F|\n",
      "|2016.0|   4.0| 245.0|    NEW|    1.0|  30.0|20574.0|20575.0|    2.0|     M|\n",
      "|2016.0|   4.0| 245.0|    ORL|    1.0|  28.0|20574.0|20588.0|    1.0|     M|\n",
      "|2016.0|   4.0| 245.0|    HOU|    1.0|  32.0|20574.0|20578.0|    2.0|     M|\n",
      "|2016.0|   4.0| 245.0|    HOU|    1.0|  26.0|20574.0|20578.0|    2.0|     F|\n",
      "|2016.0|   4.0| 245.0|    LOS|    1.0|  34.0|20574.0|20576.0|    2.0|     M|\n",
      "|2016.0|   4.0| 245.0|    MIA|    1.0|  43.0|20574.0|20582.0|    2.0|     M|\n",
      "|2016.0|   4.0| 245.0|    MIA|    1.0|  40.0|20574.0|20582.0|    2.0|     F|\n",
      "|2016.0|   4.0| 245.0|    MIA|    1.0|  18.0|20574.0|20582.0|    2.0|     M|\n",
      "|2016.0|   4.0| 245.0|    SFR|    1.0|  32.0|20574.0|20579.0|    2.0|     M|\n",
      "|2016.0|   4.0| 245.0|    SFR|    1.0|  31.0|20574.0|20579.0|    2.0|     F|\n",
      "|2016.0|   4.0| 245.0|    SFR|    1.0|   8.0|20574.0|20579.0|    2.0|     M|\n",
      "|2016.0|   4.0| 245.0|    CHI|    1.0|  45.0|20573.0|20598.0|    2.0|     F|\n",
      "|2016.0|   4.0| 245.0|    TOR|    1.0|  24.0|20573.0|20578.0|    2.0|     F|\n",
      "|2016.0|   4.0| 245.0|    TOR|    1.0|  22.0|20573.0|20577.0|    2.0|     F|\n",
      "|2016.0|   4.0| 249.0|    NYC|    1.0|  35.0|20574.0|20578.0|    2.0|     M|\n",
      "|2016.0|   4.0| 249.0|    SFR|    1.0|  19.0|20574.0|20625.0|    3.0|     F|\n",
      "|2016.0|   4.0| 249.0|    HOU|    1.0|  29.0|20574.0|20580.0|    1.0|     M|\n",
      "|2016.0|   4.0| 249.0|    WAS|    1.0|  33.0|20574.0|20580.0|    1.0|     M|\n",
      "|2016.0|   4.0| 249.0|    SEA|    1.0|  32.0|20574.0|20580.0|    2.0|     F|\n",
      "|2016.0|   4.0| 249.0|    BOS|    1.0|  62.0|20574.0|20602.0|    2.0|     M|\n",
      "|2016.0|   4.0| 249.0|    LOS|    1.0|  48.0|20574.0|   null|    2.0|     M|\n",
      "|2016.0|   4.0| 249.0|    MIA|    1.0|  53.0|20574.0|20639.0|    2.0|     F|\n",
      "|2016.0|   4.0| 249.0|    PHI|    1.0|  40.0|20574.0|20582.0|    1.0|     M|\n",
      "|2016.0|   4.0| 249.0|    SFR|    1.0|  64.0|20574.0|20665.0|    2.0|     F|\n",
      "|2016.0|   4.0| 249.0|    SAJ|    1.0|  27.0|20574.0|20581.0|    2.0|     M|\n",
      "|2016.0|   4.0| 249.0|    CLG|    1.0|  39.0|20574.0|20584.0|    2.0|     F|\n",
      "|2016.0|   4.0| 249.0|    CLG|    1.0|  31.0|20574.0|20584.0|    2.0|     M|\n",
      "|2016.0|   4.0| 249.0|    TOR|    1.0|  31.0|20573.0|20582.0|    2.0|     F|\n",
      "|2016.0|   4.0| 249.0|    SFR|    1.0|  78.0|20574.0|20616.0|    2.0|     M|\n",
      "|2016.0|   4.0| 249.0|    NYC|    1.0|  41.0|20574.0|20581.0|    2.0|     M|\n",
      "|2016.0|   4.0| 249.0|    NYC|    1.0|  53.0|20574.0|20592.0|    2.0|     M|\n",
      "|2016.0|   4.0| 249.0|    CLG|    1.0|  57.0|20574.0|20584.0|    2.0|     F|\n",
      "|2016.0|   4.0| 249.0|    HOU|    1.0|  40.0|20574.0|20579.0|    1.0|     M|\n",
      "|2016.0|   4.0| 249.0|    CHI|    1.0|  72.0|20574.0|20669.0|    2.0|     F|\n",
      "|2016.0|   4.0| 249.0|    SEA|    1.0|  58.0|20574.0|   null|    2.0|     F|\n",
      "|2016.0|   4.0| 249.0|    DET|    1.0|  23.0|20574.0|20627.0|    3.0|     M|\n",
      "|2016.0|   4.0| 249.0|    SEA|    1.0|  31.0|20574.0|20579.0|    1.0|     F|\n",
      "|2016.0|   4.0| 249.0|    MON|    1.0|  42.0|20574.0|20579.0|    1.0|     M|\n",
      "|2016.0|   4.0| 249.0|    TOR|    1.0|  56.0|20574.0|20626.0|    2.0|     F|\n",
      "|2016.0|   4.0| 249.0|    VCV|    1.0|  30.0|20574.0|20587.0|    2.0|     M|\n",
      "|2016.0|   4.0| 249.0|    SFR|    1.0|  67.0|20574.0|   null|    2.0|     M|\n",
      "|2016.0|   4.0| 249.0|    SFR|    1.0|  64.0|20574.0|   null|    2.0|     F|\n",
      "|2016.0|   4.0| 249.0|    BOS|    1.0|  26.0|20574.0|   null|    3.0|     F|\n",
      "|2016.0|   4.0| 249.0|    MAA|    1.0|  46.0|20574.0|20603.0|    2.0|     F|\n",
      "|2016.0|   4.0| 249.0|    MAA|    1.0|  34.0|20574.0|20587.0|    2.0|     F|\n",
      "|2016.0|   4.0| 249.0|    SFR|    1.0|  49.0|20574.0|20582.0|    1.0|     F|\n",
      "|2016.0|   4.0| 249.0|    MAA|    1.0|  56.0|20573.0|20662.0|    2.0|     F|\n",
      "|2016.0|   4.0| 250.0|    MIA|    1.0|  26.0|20574.0|20581.0|    2.0|     F|\n",
      "|2016.0|   4.0| 250.0|    ORL|    1.0|  32.0|20574.0|20588.0|    2.0|     M|\n",
      "|2016.0|   4.0| 250.0|    DAL|    1.0|  44.0|20574.0|20590.0|    1.0|  null|\n",
      "|2016.0|   4.0| 250.0|    DAL|    1.0|  57.0|20574.0|20580.0|    2.0|  null|\n",
      "|2016.0|   4.0| 250.0|    WAS|    1.0|  34.0|20574.0|20579.0|    1.0|     M|\n",
      "|2016.0|   4.0| 250.0|    WAS|    1.0|  69.0|20574.0|   null|    1.0|  null|\n",
      "|2016.0|   4.0| 250.0|    HOU|    1.0|  49.0|20574.0|20584.0|    1.0|     M|\n",
      "|2016.0|   4.0| 250.0|    LOS|    1.0|  36.0|20574.0|20587.0|    1.0|  null|\n",
      "|2016.0|   4.0| 250.0|    LOS|    1.0|  66.0|20574.0|20602.0|    2.0|     M|\n",
      "|2016.0|   4.0| 250.0|    LOS|    1.0|  34.0|20574.0|20587.0|    1.0|  null|\n",
      "|2016.0|   4.0| 250.0|    SFR|    1.0|  33.0|20574.0|20590.0|    1.0|     M|\n",
      "|2016.0|   4.0| 250.0|    SFR|    1.0|  41.0|20574.0|20589.0|    2.0|     M|\n",
      "|2016.0|   4.0| 250.0|    TOR|    1.0|  26.0|20574.0|20588.0|    2.0|     M|\n",
      "|2016.0|   4.0| 250.0|    HOU|    1.0|  48.0|20574.0|20586.0|    1.0|     M|\n",
      "|2016.0|   4.0| 250.0|    SEA|    1.0|  47.0|20574.0|20581.0|    1.0|     M|\n",
      "|2016.0|   4.0| 250.0|    SFR|    1.0|  31.0|20574.0|20590.0|    1.0|     M|\n",
      "|2016.0|   4.0| 250.0|    TOR|    1.0|  75.0|20574.0|20588.0|    2.0|     F|\n",
      "|2016.0|   4.0| 250.0|    HOU|    1.0|  49.0|20574.0|20581.0|    1.0|     M|\n",
      "|2016.0|   4.0| 250.0|    HOU|    1.0|  45.0|20574.0|20581.0|    1.0|     M|\n",
      "|2016.0|   4.0| 250.0|    HOU|    1.0|  41.0|20574.0|20581.0|    1.0|     M|\n",
      "|2016.0|   4.0| 250.0|    HOU|    1.0|  44.0|20574.0|20581.0|    1.0|     M|\n",
      "|2016.0|   4.0| 250.0|    HOU|    1.0|  28.0|20574.0|20581.0|    2.0|     M|\n",
      "|2016.0|   4.0| 250.0|    HOU|    1.0|  16.0|20574.0|20581.0|    2.0|     F|\n",
      "|2016.0|   4.0| 250.0|    HOU|    1.0|  56.0|20574.0|20586.0|    1.0|     M|\n",
      "|2016.0|   4.0| 250.0|    HOU|    1.0|  36.0|20574.0|20586.0|    1.0|     M|\n",
      "|2016.0|   4.0| 250.0|    HOU|    1.0|  41.0|20574.0|20586.0|    1.0|     M|\n",
      "|2016.0|   4.0| 250.0|    HOU|    1.0|  47.0|20574.0|20594.0|    1.0|     M|\n",
      "|2016.0|   4.0| 250.0|    HOU|    1.0|  59.0|20574.0|20707.0|    1.0|     F|\n",
      "|2016.0|   4.0| 250.0|    LOS|    1.0|  38.0|20574.0|20580.0|    1.0|     M|\n",
      "|2016.0|   4.0| 250.0|    CHI|    1.0|  32.0|20574.0|20584.0|    1.0|     M|\n",
      "|2016.0|   4.0| 250.0|    CHI|    1.0|  61.0|20574.0|20649.0|    2.0|     F|\n",
      "+------+------+------+-------+-------+------+-------+-------+-------+------+\n",
      "only showing top 100 rows\n",
      "\n"
     ]
    }
   ],
   "source": [
    "us_immigration = us_immigration.select(['i94yr', 'i94mon', 'i94cit', 'i94port', 'i94mode', 'i94bir', 'arrdate', 'depdate', 'i94visa','gender'])\n",
    "us_immigration.show(100)"
   ]
  },
  {
   "cell_type": "markdown",
   "metadata": {
    "editable": true
   },
   "source": [
    "### Checking if all ports are valid"
   ]
  },
  {
   "cell_type": "code",
   "execution_count": 9,
   "metadata": {
    "editable": true
   },
   "outputs": [
    {
     "name": "stdout",
     "output_type": "stream",
     "text": [
      "+-------+\n",
      "|i94port|\n",
      "+-------+\n",
      "|    FMY|\n",
      "|    BGM|\n",
      "|    HEL|\n",
      "|    DNS|\n",
      "|    MOR|\n",
      "|    FOK|\n",
      "|    HVR|\n",
      "|    SNA|\n",
      "|    PTK|\n",
      "|    CLG|\n",
      "|    SPM|\n",
      "|    OPF|\n",
      "|    DLB|\n",
      "|    ABS|\n",
      "|    NAS|\n",
      "|    MYR|\n",
      "|    PVD|\n",
      "|    OAK|\n",
      "|    FAR|\n",
      "|    OTT|\n",
      "+-------+\n",
      "only showing top 20 rows\n",
      "\n"
     ]
    }
   ],
   "source": [
    "us_immigration.select('i94port').dropDuplicates().show()"
   ]
  },
  {
   "cell_type": "markdown",
   "metadata": {
    "editable": true
   },
   "source": [
    "### Some records have null departure date, they can be filtered out (This is subjective it depends on the analysis perfomed with the data)"
   ]
  },
  {
   "cell_type": "code",
   "execution_count": 10,
   "metadata": {
    "editable": true
   },
   "outputs": [
    {
     "name": "stdout",
     "output_type": "stream",
     "text": [
      "+------+------+------+-------+-------+------+-------+-------+-------+------+\n",
      "| i94yr|i94mon|i94cit|i94port|i94mode|i94bir|arrdate|depdate|i94visa|gender|\n",
      "+------+------+------+-------+-------+------+-------+-------+-------+------+\n",
      "|2016.0|   4.0| 245.0|    LOS|    1.0|  40.0|20574.0|20582.0|    1.0|     F|\n",
      "|2016.0|   4.0| 245.0|    LOS|    1.0|  32.0|20574.0|20591.0|    1.0|     F|\n",
      "|2016.0|   4.0| 245.0|    LOS|    1.0|  29.0|20574.0|20582.0|    1.0|     M|\n",
      "|2016.0|   4.0| 245.0|    LOS|    1.0|  29.0|20574.0|20588.0|    1.0|     F|\n",
      "|2016.0|   4.0| 245.0|    LOS|    1.0|  28.0|20574.0|20588.0|    1.0|     M|\n",
      "|2016.0|   4.0| 245.0|    HHW|    1.0|  57.0|20574.0|20579.0|    2.0|     M|\n",
      "|2016.0|   4.0| 245.0|    HHW|    1.0|  66.0|20574.0|20586.0|    2.0|     F|\n",
      "|2016.0|   4.0| 245.0|    HHW|    1.0|  41.0|20574.0|20586.0|    2.0|     F|\n",
      "|2016.0|   4.0| 245.0|    HOU|    1.0|  27.0|20574.0|20581.0|    2.0|     M|\n",
      "|2016.0|   4.0| 245.0|    LOS|    1.0|  26.0|20574.0|20581.0|    2.0|     F|\n",
      "|2016.0|   4.0| 245.0|    NEW|    1.0|  44.0|20574.0|20576.0|    2.0|     M|\n",
      "|2016.0|   4.0| 245.0|    LOS|    1.0|  39.0|20574.0|20575.0|    2.0|     M|\n",
      "|2016.0|   4.0| 245.0|    WAS|    1.0|  38.0|20574.0|20596.0|    2.0|     M|\n",
      "|2016.0|   4.0| 245.0|    LOS|    1.0|  56.0|20574.0|20577.0|    2.0|     F|\n",
      "|2016.0|   4.0| 245.0|    LOS|    1.0|  38.0|20574.0|20577.0|    2.0|     M|\n",
      "|2016.0|   4.0| 245.0|    MIA|    1.0|  53.0|20574.0|20581.0|    2.0|     F|\n",
      "|2016.0|   4.0| 245.0|    HOU|    1.0|  43.0|20574.0|20583.0|    1.0|     M|\n",
      "|2016.0|   4.0| 245.0|    HOU|    1.0|  30.0|20574.0|20583.0|    1.0|     F|\n",
      "|2016.0|   4.0| 245.0|    LOS|    1.0|  34.0|20574.0|20575.0|    2.0|     M|\n",
      "|2016.0|   4.0| 245.0|    DAL|    1.0|  30.0|20574.0|20578.0|    2.0|     F|\n",
      "|2016.0|   4.0| 245.0|    NYC|    1.0|  28.0|20573.0|20575.0|    2.0|     F|\n",
      "|2016.0|   4.0| 245.0|    NEW|    1.0|  30.0|20574.0|20575.0|    2.0|     M|\n",
      "|2016.0|   4.0| 245.0|    ORL|    1.0|  28.0|20574.0|20588.0|    1.0|     M|\n",
      "|2016.0|   4.0| 245.0|    HOU|    1.0|  32.0|20574.0|20578.0|    2.0|     M|\n",
      "|2016.0|   4.0| 245.0|    HOU|    1.0|  26.0|20574.0|20578.0|    2.0|     F|\n",
      "|2016.0|   4.0| 245.0|    LOS|    1.0|  34.0|20574.0|20576.0|    2.0|     M|\n",
      "|2016.0|   4.0| 245.0|    MIA|    1.0|  43.0|20574.0|20582.0|    2.0|     M|\n",
      "|2016.0|   4.0| 245.0|    MIA|    1.0|  40.0|20574.0|20582.0|    2.0|     F|\n",
      "|2016.0|   4.0| 245.0|    MIA|    1.0|  18.0|20574.0|20582.0|    2.0|     M|\n",
      "|2016.0|   4.0| 245.0|    SFR|    1.0|  32.0|20574.0|20579.0|    2.0|     M|\n",
      "|2016.0|   4.0| 245.0|    SFR|    1.0|  31.0|20574.0|20579.0|    2.0|     F|\n",
      "|2016.0|   4.0| 245.0|    SFR|    1.0|   8.0|20574.0|20579.0|    2.0|     M|\n",
      "|2016.0|   4.0| 245.0|    CHI|    1.0|  45.0|20573.0|20598.0|    2.0|     F|\n",
      "|2016.0|   4.0| 245.0|    TOR|    1.0|  24.0|20573.0|20578.0|    2.0|     F|\n",
      "|2016.0|   4.0| 245.0|    TOR|    1.0|  22.0|20573.0|20577.0|    2.0|     F|\n",
      "|2016.0|   4.0| 249.0|    NYC|    1.0|  35.0|20574.0|20578.0|    2.0|     M|\n",
      "|2016.0|   4.0| 249.0|    SFR|    1.0|  19.0|20574.0|20625.0|    3.0|     F|\n",
      "|2016.0|   4.0| 249.0|    HOU|    1.0|  29.0|20574.0|20580.0|    1.0|     M|\n",
      "|2016.0|   4.0| 249.0|    WAS|    1.0|  33.0|20574.0|20580.0|    1.0|     M|\n",
      "|2016.0|   4.0| 249.0|    SEA|    1.0|  32.0|20574.0|20580.0|    2.0|     F|\n",
      "|2016.0|   4.0| 249.0|    BOS|    1.0|  62.0|20574.0|20602.0|    2.0|     M|\n",
      "|2016.0|   4.0| 249.0|    MIA|    1.0|  53.0|20574.0|20639.0|    2.0|     F|\n",
      "|2016.0|   4.0| 249.0|    PHI|    1.0|  40.0|20574.0|20582.0|    1.0|     M|\n",
      "|2016.0|   4.0| 249.0|    SFR|    1.0|  64.0|20574.0|20665.0|    2.0|     F|\n",
      "|2016.0|   4.0| 249.0|    SAJ|    1.0|  27.0|20574.0|20581.0|    2.0|     M|\n",
      "|2016.0|   4.0| 249.0|    CLG|    1.0|  39.0|20574.0|20584.0|    2.0|     F|\n",
      "|2016.0|   4.0| 249.0|    CLG|    1.0|  31.0|20574.0|20584.0|    2.0|     M|\n",
      "|2016.0|   4.0| 249.0|    TOR|    1.0|  31.0|20573.0|20582.0|    2.0|     F|\n",
      "|2016.0|   4.0| 249.0|    SFR|    1.0|  78.0|20574.0|20616.0|    2.0|     M|\n",
      "|2016.0|   4.0| 249.0|    NYC|    1.0|  41.0|20574.0|20581.0|    2.0|     M|\n",
      "+------+------+------+-------+-------+------+-------+-------+-------+------+\n",
      "only showing top 50 rows\n",
      "\n"
     ]
    }
   ],
   "source": [
    "us_immigration_clean = us_immigration.where(us_immigration['depdate'].isNotNull())\n",
    "us_immigration_clean.show(50)"
   ]
  },
  {
   "cell_type": "markdown",
   "metadata": {
    "editable": true
   },
   "source": [
    "#### Exploring Temperature Data "
   ]
  },
  {
   "cell_type": "code",
   "execution_count": 11,
   "metadata": {
    "editable": true
   },
   "outputs": [],
   "source": [
    "temp_data = spark.read.format(\"csv\").option(\"header\", \"true\").load('GlobalLandTemperaturesByCity.csv')"
   ]
  },
  {
   "cell_type": "code",
   "execution_count": 12,
   "metadata": {
    "editable": true
   },
   "outputs": [
    {
     "name": "stdout",
     "output_type": "stream",
     "text": [
      "root\n",
      " |-- dt: string (nullable = true)\n",
      " |-- AverageTemperature: string (nullable = true)\n",
      " |-- AverageTemperatureUncertainty: string (nullable = true)\n",
      " |-- City: string (nullable = true)\n",
      " |-- Country: string (nullable = true)\n",
      " |-- Latitude: string (nullable = true)\n",
      " |-- Longitude: string (nullable = true)\n",
      "\n"
     ]
    }
   ],
   "source": [
    "temp_data.printSchema()"
   ]
  },
  {
   "cell_type": "code",
   "execution_count": 13,
   "metadata": {
    "editable": true
   },
   "outputs": [
    {
     "name": "stdout",
     "output_type": "stream",
     "text": [
      "+----------+-------------------+-----------------------------+-----+-------+--------+---------+\n",
      "|        dt| AverageTemperature|AverageTemperatureUncertainty| City|Country|Latitude|Longitude|\n",
      "+----------+-------------------+-----------------------------+-----+-------+--------+---------+\n",
      "|1743-11-01|              6.068|           1.7369999999999999|Århus|Denmark|  57.05N|   10.33E|\n",
      "|1743-12-01|               null|                         null|Århus|Denmark|  57.05N|   10.33E|\n",
      "|1744-01-01|               null|                         null|Århus|Denmark|  57.05N|   10.33E|\n",
      "|1744-02-01|               null|                         null|Århus|Denmark|  57.05N|   10.33E|\n",
      "|1744-03-01|               null|                         null|Århus|Denmark|  57.05N|   10.33E|\n",
      "|1744-04-01| 5.7879999999999985|           3.6239999999999997|Århus|Denmark|  57.05N|   10.33E|\n",
      "|1744-05-01|             10.644|           1.2830000000000001|Århus|Denmark|  57.05N|   10.33E|\n",
      "|1744-06-01| 14.050999999999998|                        1.347|Århus|Denmark|  57.05N|   10.33E|\n",
      "|1744-07-01|             16.082|                        1.396|Århus|Denmark|  57.05N|   10.33E|\n",
      "|1744-08-01|               null|                         null|Århus|Denmark|  57.05N|   10.33E|\n",
      "|1744-09-01| 12.780999999999999|                        1.454|Århus|Denmark|  57.05N|   10.33E|\n",
      "|1744-10-01|               7.95|                         1.63|Århus|Denmark|  57.05N|   10.33E|\n",
      "|1744-11-01|  4.638999999999999|           1.3019999999999998|Århus|Denmark|  57.05N|   10.33E|\n",
      "|1744-12-01|0.12199999999999987|                        1.756|Århus|Denmark|  57.05N|   10.33E|\n",
      "|1745-01-01|-1.3330000000000002|                        1.642|Århus|Denmark|  57.05N|   10.33E|\n",
      "|1745-02-01|             -2.732|                        1.358|Århus|Denmark|  57.05N|   10.33E|\n",
      "|1745-03-01|              0.129|                        1.088|Århus|Denmark|  57.05N|   10.33E|\n",
      "|1745-04-01|              4.042|                        1.138|Århus|Denmark|  57.05N|   10.33E|\n",
      "|1745-05-01|               null|                         null|Århus|Denmark|  57.05N|   10.33E|\n",
      "|1745-06-01|               null|                         null|Århus|Denmark|  57.05N|   10.33E|\n",
      "|1745-07-01|               null|                         null|Århus|Denmark|  57.05N|   10.33E|\n",
      "|1745-08-01|               null|                         null|Århus|Denmark|  57.05N|   10.33E|\n",
      "|1745-09-01|               null|                         null|Århus|Denmark|  57.05N|   10.33E|\n",
      "|1745-10-01|               null|                         null|Århus|Denmark|  57.05N|   10.33E|\n",
      "|1745-11-01|               null|                         null|Århus|Denmark|  57.05N|   10.33E|\n",
      "|1745-12-01|               null|                         null|Århus|Denmark|  57.05N|   10.33E|\n",
      "|1746-01-01|               null|                         null|Århus|Denmark|  57.05N|   10.33E|\n",
      "|1746-02-01|               null|                         null|Århus|Denmark|  57.05N|   10.33E|\n",
      "|1746-03-01|               null|                         null|Århus|Denmark|  57.05N|   10.33E|\n",
      "|1746-04-01|               null|                         null|Århus|Denmark|  57.05N|   10.33E|\n",
      "|1746-05-01|               null|                         null|Århus|Denmark|  57.05N|   10.33E|\n",
      "|1746-06-01|               null|                         null|Århus|Denmark|  57.05N|   10.33E|\n",
      "|1746-07-01|               null|                         null|Århus|Denmark|  57.05N|   10.33E|\n",
      "|1746-08-01|               null|                         null|Århus|Denmark|  57.05N|   10.33E|\n",
      "|1746-09-01|               null|                         null|Århus|Denmark|  57.05N|   10.33E|\n",
      "|1746-10-01|               null|                         null|Århus|Denmark|  57.05N|   10.33E|\n",
      "|1746-11-01|               null|                         null|Århus|Denmark|  57.05N|   10.33E|\n",
      "|1746-12-01|               null|                         null|Århus|Denmark|  57.05N|   10.33E|\n",
      "|1747-01-01|               null|                         null|Århus|Denmark|  57.05N|   10.33E|\n",
      "|1747-02-01|               null|                         null|Århus|Denmark|  57.05N|   10.33E|\n",
      "|1747-03-01|               null|                         null|Århus|Denmark|  57.05N|   10.33E|\n",
      "|1747-04-01|               null|                         null|Århus|Denmark|  57.05N|   10.33E|\n",
      "|1747-05-01|               null|                         null|Århus|Denmark|  57.05N|   10.33E|\n",
      "|1747-06-01|               null|                         null|Århus|Denmark|  57.05N|   10.33E|\n",
      "|1747-07-01|               null|                         null|Århus|Denmark|  57.05N|   10.33E|\n",
      "|1747-08-01|               null|                         null|Århus|Denmark|  57.05N|   10.33E|\n",
      "|1747-09-01|               null|                         null|Århus|Denmark|  57.05N|   10.33E|\n",
      "|1747-10-01|               null|                         null|Århus|Denmark|  57.05N|   10.33E|\n",
      "|1747-11-01|               null|                         null|Århus|Denmark|  57.05N|   10.33E|\n",
      "|1747-12-01|               null|                         null|Århus|Denmark|  57.05N|   10.33E|\n",
      "|1748-01-01|               null|                         null|Århus|Denmark|  57.05N|   10.33E|\n",
      "|1748-02-01|               null|                         null|Århus|Denmark|  57.05N|   10.33E|\n",
      "|1748-03-01|               null|                         null|Århus|Denmark|  57.05N|   10.33E|\n",
      "|1748-04-01|               null|                         null|Århus|Denmark|  57.05N|   10.33E|\n",
      "|1748-05-01|               null|                         null|Århus|Denmark|  57.05N|   10.33E|\n",
      "|1748-06-01|               null|                         null|Århus|Denmark|  57.05N|   10.33E|\n",
      "|1748-07-01|               null|                         null|Århus|Denmark|  57.05N|   10.33E|\n",
      "|1748-08-01|               null|                         null|Århus|Denmark|  57.05N|   10.33E|\n",
      "|1748-09-01|               null|                         null|Århus|Denmark|  57.05N|   10.33E|\n",
      "|1748-10-01|               null|                         null|Århus|Denmark|  57.05N|   10.33E|\n",
      "|1748-11-01|               null|                         null|Århus|Denmark|  57.05N|   10.33E|\n",
      "|1748-12-01|               null|                         null|Århus|Denmark|  57.05N|   10.33E|\n",
      "|1749-01-01|               null|                         null|Århus|Denmark|  57.05N|   10.33E|\n",
      "|1749-02-01|               null|                         null|Århus|Denmark|  57.05N|   10.33E|\n",
      "|1749-03-01|               null|                         null|Århus|Denmark|  57.05N|   10.33E|\n",
      "|1749-04-01|               null|                         null|Århus|Denmark|  57.05N|   10.33E|\n",
      "|1749-05-01|               null|                         null|Århus|Denmark|  57.05N|   10.33E|\n",
      "|1749-06-01|               null|                         null|Århus|Denmark|  57.05N|   10.33E|\n",
      "|1749-07-01|               null|                         null|Århus|Denmark|  57.05N|   10.33E|\n",
      "|1749-08-01|               null|                         null|Århus|Denmark|  57.05N|   10.33E|\n",
      "|1749-09-01|               null|                         null|Århus|Denmark|  57.05N|   10.33E|\n",
      "|1749-10-01|               null|                         null|Århus|Denmark|  57.05N|   10.33E|\n",
      "|1749-11-01|               null|                         null|Århus|Denmark|  57.05N|   10.33E|\n",
      "|1749-12-01|               null|                         null|Århus|Denmark|  57.05N|   10.33E|\n",
      "|1750-01-01|              1.699|                        1.013|Århus|Denmark|  57.05N|   10.33E|\n",
      "|1750-02-01| 3.9610000000000003|           2.3609999999999998|Århus|Denmark|  57.05N|   10.33E|\n",
      "|1750-03-01|              5.182|                         3.48|Århus|Denmark|  57.05N|   10.33E|\n",
      "|1750-04-01|              7.197|                        0.732|Århus|Denmark|  57.05N|   10.33E|\n",
      "|1750-05-01|             10.634|                        1.351|Århus|Denmark|  57.05N|   10.33E|\n",
      "|1750-06-01|             14.913|                        1.181|Århus|Denmark|  57.05N|   10.33E|\n",
      "|1750-07-01|             17.831|                         1.22|Århus|Denmark|  57.05N|   10.33E|\n",
      "|1750-08-01|             16.848|                        0.736|Århus|Denmark|  57.05N|   10.33E|\n",
      "|1750-09-01| 13.142999999999999|                        1.021|Århus|Denmark|  57.05N|   10.33E|\n",
      "|1750-10-01|              5.251|                        1.258|Århus|Denmark|  57.05N|   10.33E|\n",
      "|1750-11-01|               null|                         null|Århus|Denmark|  57.05N|   10.33E|\n",
      "|1750-12-01|-0.6779999999999999|                        1.808|Århus|Denmark|  57.05N|   10.33E|\n",
      "|1751-01-01|             -0.623|                          1.7|Århus|Denmark|  57.05N|   10.33E|\n",
      "|1751-02-01|             -3.764|                        2.329|Århus|Denmark|  57.05N|   10.33E|\n",
      "|1751-03-01|                3.7|                        1.672|Århus|Denmark|  57.05N|   10.33E|\n",
      "|1751-04-01|              5.267|                         0.85|Århus|Denmark|  57.05N|   10.33E|\n",
      "|1751-05-01|               null|                         null|Århus|Denmark|  57.05N|   10.33E|\n",
      "|1751-06-01|             14.429|                        1.579|Århus|Denmark|  57.05N|   10.33E|\n",
      "|1751-07-01| 16.637999999999998|                         0.89|Århus|Denmark|  57.05N|   10.33E|\n",
      "|1751-08-01|             16.547|                        0.728|Århus|Denmark|  57.05N|   10.33E|\n",
      "|1751-09-01|             12.177|           0.5820000000000001|Århus|Denmark|  57.05N|   10.33E|\n",
      "|1751-10-01|               null|                         null|Århus|Denmark|  57.05N|   10.33E|\n",
      "|1751-11-01|               null|                         null|Århus|Denmark|  57.05N|   10.33E|\n",
      "|1751-12-01|               null|                         null|Århus|Denmark|  57.05N|   10.33E|\n",
      "|1752-01-01|-0.7809999999999999|                        2.622|Århus|Denmark|  57.05N|   10.33E|\n",
      "|1752-02-01|               null|                         null|Århus|Denmark|  57.05N|   10.33E|\n",
      "+----------+-------------------+-----------------------------+-----+-------+--------+---------+\n",
      "only showing top 100 rows\n",
      "\n"
     ]
    }
   ],
   "source": [
    "temp_data.show(100)"
   ]
  },
  {
   "cell_type": "markdown",
   "metadata": {
    "editable": true
   },
   "source": [
    "#### Droping rows with null AverageTemperature and also drop duplicate Cities"
   ]
  },
  {
   "cell_type": "code",
   "execution_count": 14,
   "metadata": {
    "editable": true
   },
   "outputs": [
    {
     "name": "stdout",
     "output_type": "stream",
     "text": [
      "+----------+-------------------+-----------------------------+----------------+-------------+--------+---------+\n",
      "|        dt| AverageTemperature|AverageTemperatureUncertainty|            City|      Country|Latitude|Longitude|\n",
      "+----------+-------------------+-----------------------------+----------------+-------------+--------+---------+\n",
      "|1743-11-01|             13.918|                        2.234|      Charleston|United States|  32.95N|   79.47W|\n",
      "|1849-01-01|             13.116|           2.5860000000000003|          Corona|United States|  32.95N|  117.77W|\n",
      "|1758-03-01|             19.761|                        3.464|       Hollywood|United States|  26.52N|   80.60W|\n",
      "|1758-03-01|             19.761|                        3.464|   Coral Springs|United States|  26.52N|   80.60W|\n",
      "|1828-01-01|            -17.738|                        3.468|       Anchorage|United States|  61.88N|  151.13W|\n",
      "|1743-11-01|              3.264|                        1.665|       Allentown|United States|  40.99N|   74.56W|\n",
      "|1768-09-01|             14.979|           3.0060000000000002|    Fort Collins|United States|  40.99N|  104.38W|\n",
      "|1849-01-01|             13.116|           2.5860000000000003|         Anaheim|United States|  32.95N|  117.77W|\n",
      "|1743-11-01|               7.81|                        2.072|      Greensboro|United States|  36.17N|   79.56W|\n",
      "|1743-11-01|  8.379999999999999|                        2.298|     Chattanooga|United States|  34.56N|   85.62W|\n",
      "|1820-01-01| 3.2930000000000006|                        3.278|          Dallas|United States|  32.95N|   96.70W|\n",
      "|1823-01-01|             11.602|           2.8160000000000003|          Laredo|United States|  28.13N|   99.09W|\n",
      "|1743-11-01| 1.1880000000000002|                        1.531|      Manchester|United States|  42.59N|   72.00W|\n",
      "|1849-01-01|  7.399999999999999|                        2.699|         Fontana|United States|  34.56N|  116.76W|\n",
      "|1743-11-01|              3.264|                        1.665|          Edison|United States|  40.99N|   74.56W|\n",
      "|1743-11-01| 1.1880000000000002|                        1.531|          Lowell|United States|  42.59N|   72.00W|\n",
      "|1849-01-01| 6.4990000000000006|                        2.459|     Bakersfield|United States|  36.17N|  119.34W|\n",
      "|1743-11-01|              5.339|                        1.828|      Alexandria|United States|  39.38N|   76.99W|\n",
      "|1849-01-01|             13.116|           2.5860000000000003|     Chula Vista|United States|  32.95N|  117.77W|\n",
      "|1743-11-01|              6.165|                        2.227|      Louisville|United States|  37.78N|   85.42W|\n",
      "|1743-11-01| 4.5489999999999995|                         2.08|          Dayton|United States|  39.38N|   83.24W|\n",
      "|1743-11-01|              9.892|           2.1719999999999997|    Fayetteville|United States|  34.56N|   79.78W|\n",
      "|1849-01-01|             13.116|           2.5860000000000003|       Fullerton|United States|  32.95N|  117.77W|\n",
      "|1743-11-01|             11.162|           1.9240000000000002|         Hampton|United States|  36.17N|   75.58W|\n",
      "|1849-01-01|  8.818999999999999|           2.5580000000000003|     Los Angeles|United States|  34.56N|  118.70W|\n",
      "|1743-11-01| 1.1880000000000002|                        1.531|       Cambridge|United States|  42.59N|   72.00W|\n",
      "|1849-01-01|             13.116|           2.5860000000000003|       Escondido|United States|  32.95N|  117.77W|\n",
      "|1849-01-01|  8.091999999999999|           2.1919999999999997|       Fairfield|United States|  37.78N|  122.03W|\n",
      "|1743-11-01| 1.9390000000000005|                          2.1|    Grand Rapids|United States|  42.59N|   85.09W|\n",
      "|1835-01-01|             11.544|                        2.167|        Chandler|United States|  32.95N|  112.02W|\n",
      "|1743-11-01|              7.442|                         2.32|     Clarksville|United States|  36.17N|   87.51W|\n",
      "|1743-11-01|  4.372999999999998|                        2.185|    Indianapolis|United States|  39.38N|   85.32W|\n",
      "|1743-11-01|              3.209|           1.9609999999999999|       Cleveland|United States|  40.99N|   80.95W|\n",
      "|1743-11-01|              2.208|           1.9969999999999999|           Flint|United States|  42.59N|   82.91W|\n",
      "|1743-11-01|             10.572|                        2.352|      Montgomery|United States|  32.95N|   87.13W|\n",
      "|1743-11-01|             11.162|           1.9240000000000002|      Chesapeake|United States|  36.17N|   75.58W|\n",
      "|1743-11-01|              2.208|           1.9969999999999999|         Detroit|United States|  42.59N|   82.91W|\n",
      "|1743-11-01|              5.371|                        1.578|      Bridgeport|United States|  40.99N|   72.43W|\n",
      "|1775-04-01| 7.0200000000000005|           2.3040000000000003|          Aurora|United States|  39.38N|  104.05W|\n",
      "|1849-01-01|  7.399999999999999|                        2.699|   Moreno Valley|United States|  34.56N|  116.76W|\n",
      "|1758-03-01| 15.827000000000002|           3.5589999999999997|     Baton Rouge|United States|  29.74N|   90.46W|\n",
      "|1743-11-01| 2.1420000000000003|                        2.186|       Green Bay|United States|  44.20N|   87.20W|\n",
      "|1743-11-01|             10.572|                        2.352|      Birmingham|United States|  32.95N|   87.13W|\n",
      "|1849-01-01|             13.116|           2.5860000000000003|    Garden Grove|United States|  32.95N|  117.77W|\n",
      "|1849-01-01|  8.818999999999999|           2.5580000000000003|         Burbank|United States|  34.56N|  118.70W|\n",
      "|1758-03-01|  4.800000000000002|                        3.784|    Independence|United States|  39.38N|   93.64W|\n",
      "|1849-01-01|             13.116|           2.5860000000000003|          Irvine|United States|  32.95N|  117.77W|\n",
      "|1743-11-01|             10.375|                        2.313|        Columbus|United States|  32.95N|   85.21W|\n",
      "|1743-11-01|  6.577000000000001|                        2.302|      Evansville|United States|  37.78N|   87.46W|\n",
      "|1849-01-01|  8.091999999999999|           2.1919999999999997|         Antioch|United States|  37.78N|  122.03W|\n",
      "|1849-01-01|  8.091999999999999|           2.1919999999999997|         Hayward|United States|  37.78N|  122.03W|\n",
      "|1743-11-01|              9.451|                        2.399|         Memphis|United States|  34.56N|   89.51W|\n",
      "|1743-11-01|              2.208|           1.9969999999999999|       Ann Arbor|United States|  42.59N|   82.91W|\n",
      "|1849-01-01|             13.116|           2.5860000000000003|Huntington Beach|United States|  32.95N|  117.77W|\n",
      "|1820-01-01|  7.168999999999999|                        3.676|          Austin|United States|  29.74N|   97.85W|\n",
      "|1743-11-01| 0.9920000000000002|                        2.366|         Madison|United States|  42.59N|   89.45W|\n",
      "|1825-05-01|             20.481|                        1.778|         El Paso|United States|  31.35N|  105.55W|\n",
      "|1743-11-01|              5.436|                        2.205|       Milwaukee|United States|  42.59N|   87.27W|\n",
      "|1820-01-01| 3.2930000000000006|                        3.278|         Garland|United States|  32.95N|   96.70W|\n",
      "|1835-01-01|             11.544|                        2.167|         Gilbert|United States|  32.95N|  112.02W|\n",
      "|1820-01-01| 3.2930000000000006|                        3.278|        Mesquite|United States|  32.95N|   96.70W|\n",
      "|1743-11-01| 1.9390000000000005|                          2.1|         Lansing|United States|  42.59N|   85.09W|\n",
      "|1743-11-01|              5.436|                        2.205|         Chicago|United States|  42.59N|   87.27W|\n",
      "|1820-01-01| 1.5250000000000004|                        3.199|         Lubbock|United States|  32.95N|  102.45W|\n",
      "|1835-01-01|             11.544|                        2.167|        Glendale|United States|  32.95N|  112.02W|\n",
      "|1820-01-01|-11.869000000000002|           2.6719999999999997|          Arvada|United States|  39.38N|  106.13W|\n",
      "|1758-03-01|             19.761|                        3.464| Fort Lauderdale|United States|  26.52N|   80.60W|\n",
      "|1849-01-01|  8.818999999999999|           2.5580000000000003|       Inglewood|United States|  34.56N|  118.70W|\n",
      "|1775-04-01| 7.0200000000000005|           2.3040000000000003|        Lakewood|United States|  39.38N|  104.05W|\n",
      "|1743-11-01|              0.706|                         2.49|    Cedar Rapids|United States|  42.59N|   91.64W|\n",
      "|1775-04-01| 7.0200000000000005|           2.3040000000000003| Highlands Ranch|United States|  39.38N|  104.05W|\n",
      "|1820-01-01| 3.2930000000000006|                        3.278|          Irving|United States|  32.95N|   96.70W|\n",
      "|1849-01-01|  8.818999999999999|           2.5580000000000003|       Lancaster|United States|  34.56N|  118.70W|\n",
      "|1820-01-01|               9.89|           3.8819999999999997|  Corpus Christi|United States|  28.13N|   97.27W|\n",
      "|1743-11-01|              3.209|           1.9609999999999999|           Akron|United States|  40.99N|   80.95W|\n",
      "|1820-01-01|-0.1339999999999999|                        3.033|        Amarillo|United States|  34.56N|  101.19W|\n",
      "|1820-01-01| 3.2930000000000006|                        3.278|      Carrollton|United States|  32.95N|   96.70W|\n",
      "|1758-03-01|              2.512|                        3.833|         Lincoln|United States|  40.99N|   95.86W|\n",
      "|1820-01-01| 3.2930000000000006|                        3.278|   Grand Prairie|United States|  32.95N|   96.70W|\n",
      "|1743-11-01|  8.129999999999999|                        2.245|         Atlanta|United States|  34.56N|   83.68W|\n",
      "|1820-01-01|              9.078|                        4.012|       Lafayette|United States|  29.74N|   92.31W|\n",
      "|1820-01-01| 3.2930000000000006|                        3.278|       Arlington|United States|  32.95N|   96.70W|\n",
      "|1758-03-01| 15.827000000000002|           3.5589999999999997|        Metairie|United States|  29.74N|   90.46W|\n",
      "|1849-01-01| 6.4990000000000006|                        2.459|          Fresno|United States|  36.17N|  119.34W|\n",
      "|1758-03-01|             12.432|           3.6519999999999997|         Jackson|United States|  32.95N|   90.96W|\n",
      "|1835-01-01| 7.0329999999999995|                        2.325|       Las Vegas|United States|  36.17N|  115.36W|\n",
      "|1758-03-01|              10.77|           3.6710000000000003|     Little Rock|United States|  34.56N|   91.46W|\n",
      "|1743-11-01|              3.264|                        1.665|     Jersey City|United States|  40.99N|   74.56W|\n",
      "|1849-01-01|             13.116|           2.5860000000000003|      Long Beach|United States|  32.95N|  117.77W|\n",
      "|1743-11-01| 15.163999999999998|                        2.387|     Gainesville|United States|  29.74N|   83.08W|\n",
      "|1849-01-01|             13.116|           2.5860000000000003|      Costa Mesa|United States|  32.95N|  117.77W|\n",
      "|1743-11-01|  8.379999999999999|                        2.298|      Huntsville|United States|  34.56N|   85.62W|\n",
      "|1758-03-01|  4.800000000000002|                        3.784|     Kansas City|United States|  39.38N|   93.64W|\n",
      "|1849-01-01|  8.091999999999999|           2.1919999999999997|        Berkeley|United States|  37.78N|  122.03W|\n",
      "|1849-01-01|  8.818999999999999|           2.5580000000000003|East Los Angeles|United States|  34.56N|  118.70W|\n",
      "|1743-11-01|               7.81|                        2.072|          Durham|United States|  36.17N|   79.56W|\n",
      "|1835-01-01| 7.0329999999999995|                        2.325|       Henderson|United States|  36.17N|  115.36W|\n",
      "|1758-03-01|             19.761|                        3.464|         Hialeah|United States|  26.52N|   80.60W|\n",
      "|1743-11-01|              3.264|                        1.665|       Elizabeth|United States|  40.99N|   74.56W|\n",
      "|1775-04-01| 7.0200000000000005|           2.3040000000000003|Colorado Springs|United States|  39.38N|  104.05W|\n",
      "+----------+-------------------+-----------------------------+----------------+-------------+--------+---------+\n",
      "only showing top 100 rows\n",
      "\n"
     ]
    }
   ],
   "source": [
    "temp_data_clean = temp_data.where(temp_data['AverageTemperature'].isNotNull()).where(temp_data['Country'] == 'United States').dropDuplicates(['City'])\n",
    "temp_data_clean.show(100)"
   ]
  },
  {
   "cell_type": "markdown",
   "metadata": {
    "editable": true
   },
   "source": [
    "### Exploring Demographics"
   ]
  },
  {
   "cell_type": "code",
   "execution_count": 15,
   "metadata": {
    "editable": true
   },
   "outputs": [],
   "source": [
    "demograph_data = spark.read.format(\"csv\").option(\"header\", \"true\").load('us-cities-demographics.csv',sep=';')"
   ]
  },
  {
   "cell_type": "code",
   "execution_count": 16,
   "metadata": {
    "editable": true
   },
   "outputs": [
    {
     "name": "stdout",
     "output_type": "stream",
     "text": [
      "root\n",
      " |-- City: string (nullable = true)\n",
      " |-- State: string (nullable = true)\n",
      " |-- Median Age: string (nullable = true)\n",
      " |-- Male Population: string (nullable = true)\n",
      " |-- Female Population: string (nullable = true)\n",
      " |-- Total Population: string (nullable = true)\n",
      " |-- Number of Veterans: string (nullable = true)\n",
      " |-- Foreign-born: string (nullable = true)\n",
      " |-- Average Household Size: string (nullable = true)\n",
      " |-- State Code: string (nullable = true)\n",
      " |-- Race: string (nullable = true)\n",
      " |-- Count: string (nullable = true)\n",
      "\n"
     ]
    }
   ],
   "source": [
    "demograph_data.printSchema()"
   ]
  },
  {
   "cell_type": "code",
   "execution_count": 17,
   "metadata": {
    "editable": true
   },
   "outputs": [
    {
     "name": "stdout",
     "output_type": "stream",
     "text": [
      "+----------------+--------------+----------+---------------+-----------------+----------------+------------------+------------+----------------------+----------+--------------------+-----+\n",
      "|            City|         State|Median Age|Male Population|Female Population|Total Population|Number of Veterans|Foreign-born|Average Household Size|State Code|                Race|Count|\n",
      "+----------------+--------------+----------+---------------+-----------------+----------------+------------------+------------+----------------------+----------+--------------------+-----+\n",
      "|   Silver Spring|      Maryland|      33.8|          40601|            41862|           82463|              1562|       30908|                   2.6|        MD|  Hispanic or Latino|25924|\n",
      "|          Quincy| Massachusetts|      41.0|          44129|            49500|           93629|              4147|       32935|                  2.39|        MA|               White|58723|\n",
      "|          Hoover|       Alabama|      38.5|          38040|            46799|           84839|              4819|        8229|                  2.58|        AL|               Asian| 4759|\n",
      "|Rancho Cucamonga|    California|      34.5|          88127|            87105|          175232|              5821|       33878|                  3.18|        CA|Black or African-...|24437|\n",
      "|          Newark|    New Jersey|      34.6|         138040|           143873|          281913|              5829|       86253|                  2.73|        NJ|               White|76402|\n",
      "|          Peoria|      Illinois|      33.1|          56229|            62432|          118661|              6634|        7517|                   2.4|        IL|American Indian a...| 1343|\n",
      "|        Avondale|       Arizona|      29.1|          38712|            41971|           80683|              4815|        8355|                  3.18|        AZ|Black or African-...|11592|\n",
      "|     West Covina|    California|      39.8|          51629|            56860|          108489|              3800|       37038|                  3.56|        CA|               Asian|32716|\n",
      "|        O'Fallon|      Missouri|      36.0|          41762|            43270|           85032|              5783|        3269|                  2.77|        MO|  Hispanic or Latino| 2583|\n",
      "|      High Point|North Carolina|      35.5|          51751|            58077|          109828|              5204|       16315|                  2.65|        NC|               Asian|11060|\n",
      "+----------------+--------------+----------+---------------+-----------------+----------------+------------------+------------+----------------------+----------+--------------------+-----+\n",
      "only showing top 10 rows\n",
      "\n"
     ]
    }
   ],
   "source": [
    "demograph_data.show(10)"
   ]
  },
  {
   "cell_type": "markdown",
   "metadata": {
    "editable": true
   },
   "source": [
    "### Check if there are duplicate cities"
   ]
  },
  {
   "cell_type": "code",
   "execution_count": 18,
   "metadata": {
    "editable": true
   },
   "outputs": [
    {
     "name": "stdout",
     "output_type": "stream",
     "text": [
      "+-------+----------+----------+---------------+-----------------+----------------+------------------+------------+----------------------+----------+--------------------+------+\n",
      "|   City|     State|Median Age|Male Population|Female Population|Total Population|Number of Veterans|Foreign-born|Average Household Size|State Code|                Race| Count|\n",
      "+-------+----------+----------+---------------+-----------------+----------------+------------------+------------+----------------------+----------+--------------------+------+\n",
      "|Abilene|     Texas|      31.3|          65212|            60664|          125876|              9367|        8129|                  2.64|        TX|American Indian a...|  1813|\n",
      "|Abilene|     Texas|      31.3|          65212|            60664|          125876|              9367|        8129|                  2.64|        TX|  Hispanic or Latino| 33222|\n",
      "|Abilene|     Texas|      31.3|          65212|            60664|          125876|              9367|        8129|                  2.64|        TX|               White| 95487|\n",
      "|Abilene|     Texas|      31.3|          65212|            60664|          125876|              9367|        8129|                  2.64|        TX|               Asian|  2929|\n",
      "|Abilene|     Texas|      31.3|          65212|            60664|          125876|              9367|        8129|                  2.64|        TX|Black or African-...| 14449|\n",
      "|  Akron|      Ohio|      38.1|          96886|           100667|          197553|             12878|       10024|                  2.24|        OH|               White|129192|\n",
      "|  Akron|      Ohio|      38.1|          96886|           100667|          197553|             12878|       10024|                  2.24|        OH|  Hispanic or Latino|  3684|\n",
      "|  Akron|      Ohio|      38.1|          96886|           100667|          197553|             12878|       10024|                  2.24|        OH|Black or African-...| 66551|\n",
      "|  Akron|      Ohio|      38.1|          96886|           100667|          197553|             12878|       10024|                  2.24|        OH|               Asian|  9033|\n",
      "|  Akron|      Ohio|      38.1|          96886|           100667|          197553|             12878|       10024|                  2.24|        OH|American Indian a...|  1845|\n",
      "|Alafaya|   Florida|      33.5|          39504|            45760|           85264|              4176|       15842|                  2.94|        FL|  Hispanic or Latino| 34897|\n",
      "|Alafaya|   Florida|      33.5|          39504|            45760|           85264|              4176|       15842|                  2.94|        FL|               Asian| 10336|\n",
      "|Alafaya|   Florida|      33.5|          39504|            45760|           85264|              4176|       15842|                  2.94|        FL|               White| 63666|\n",
      "|Alafaya|   Florida|      33.5|          39504|            45760|           85264|              4176|       15842|                  2.94|        FL|Black or African-...|  6577|\n",
      "|Alameda|California|      41.4|          37747|            40867|           78614|              4504|       18841|                  2.52|        CA|               White| 44232|\n",
      "|Alameda|California|      41.4|          37747|            40867|           78614|              4504|       18841|                  2.52|        CA|American Indian a...|  1329|\n",
      "|Alameda|California|      41.4|          37747|            40867|           78614|              4504|       18841|                  2.52|        CA|Black or African-...|  7364|\n",
      "|Alameda|California|      41.4|          37747|            40867|           78614|              4504|       18841|                  2.52|        CA|  Hispanic or Latino|  8265|\n",
      "|Alameda|California|      41.4|          37747|            40867|           78614|              4504|       18841|                  2.52|        CA|               Asian| 27984|\n",
      "| Albany|  New York|      32.8|          47627|            50825|           98452|              3643|       11948|                  2.08|        NY|  Hispanic or Latino|  9368|\n",
      "+-------+----------+----------+---------------+-----------------+----------------+------------------+------------+----------------------+----------+--------------------+------+\n",
      "only showing top 20 rows\n",
      "\n"
     ]
    }
   ],
   "source": [
    "demograph_data.orderBy('City').show(20)"
   ]
  },
  {
   "cell_type": "markdown",
   "metadata": {
    "editable": true
   },
   "source": [
    "### Remove Duplicate cities"
   ]
  },
  {
   "cell_type": "code",
   "execution_count": 19,
   "metadata": {
    "editable": true
   },
   "outputs": [
    {
     "name": "stdout",
     "output_type": "stream",
     "text": [
      "+-----------------+------------+----------+\n",
      "|             City|       State|State Code|\n",
      "+-----------------+------------+----------+\n",
      "|          Abilene|       Texas|        TX|\n",
      "|            Akron|        Ohio|        OH|\n",
      "|          Alafaya|     Florida|        FL|\n",
      "|          Alameda|  California|        CA|\n",
      "|           Albany|     Georgia|        GA|\n",
      "|      Albuquerque|  New Mexico|        NM|\n",
      "|       Alexandria|    Virginia|        VA|\n",
      "|         Alhambra|  California|        CA|\n",
      "|            Allen|Pennsylvania|        PA|\n",
      "|         Amarillo|       Texas|        TX|\n",
      "|             Ames|        Iowa|        IA|\n",
      "|          Anaheim|  California|        CA|\n",
      "|        Anchorage|      Alaska|        AK|\n",
      "|        Ann Arbor|    Michigan|        MI|\n",
      "|          Antioch|  California|        CA|\n",
      "|     Apple Valley|  California|        CA|\n",
      "|         Appleton|   Wisconsin|        WI|\n",
      "|     Arden-Arcade|  California|        CA|\n",
      "|        Arlington|       Texas|        TX|\n",
      "|Arlington Heights|    Illinois|        IL|\n",
      "+-----------------+------------+----------+\n",
      "only showing top 20 rows\n",
      "\n"
     ]
    }
   ],
   "source": [
    "demograph_data_clean = demograph_data.dropDuplicates(['City'])\n",
    "demograph_data_clean.select('City','State','State Code').orderBy('City').show()"
   ]
  },
  {
   "cell_type": "markdown",
   "metadata": {
    "editable": true
   },
   "source": [
    "### Exploring Airport Codes"
   ]
  },
  {
   "cell_type": "code",
   "execution_count": 20,
   "metadata": {
    "editable": true
   },
   "outputs": [],
   "source": [
    "# source https://raw.githubusercontent.com/L1fescape/airport-codes/master/airports.json\n",
    "airports = spark.read.json('airports.json')"
   ]
  },
  {
   "cell_type": "code",
   "execution_count": 21,
   "metadata": {
    "editable": true
   },
   "outputs": [
    {
     "name": "stdout",
     "output_type": "stream",
     "text": [
      "root\n",
      " |-- _corrupt_record: string (nullable = true)\n",
      " |-- altitude: string (nullable = true)\n",
      " |-- city: string (nullable = true)\n",
      " |-- country: string (nullable = true)\n",
      " |-- dst: string (nullable = true)\n",
      " |-- iata: string (nullable = true)\n",
      " |-- icao: string (nullable = true)\n",
      " |-- id: string (nullable = true)\n",
      " |-- latitude: string (nullable = true)\n",
      " |-- longitude: string (nullable = true)\n",
      " |-- name: string (nullable = true)\n",
      " |-- timezone: string (nullable = true)\n",
      " |-- tz: string (nullable = true)\n",
      "\n"
     ]
    }
   ],
   "source": [
    "airports.printSchema()"
   ]
  },
  {
   "cell_type": "code",
   "execution_count": 22,
   "metadata": {
    "editable": true
   },
   "outputs": [
    {
     "name": "stdout",
     "output_type": "stream",
     "text": [
      "+---------------+--------+--------------+----------------+---+----+----+---+---------+----------+--------------------+--------+--------------------+\n",
      "|_corrupt_record|altitude|          city|         country|dst|iata|icao| id| latitude| longitude|                name|timezone|                  tz|\n",
      "+---------------+--------+--------------+----------------+---+----+----+---+---------+----------+--------------------+--------+--------------------+\n",
      "|           null|    5282|        Goroka|Papua New Guinea|  U| GKA|AYGA|  1|-6.081689|145.391881|              Goroka|      10|Pacific/Port_Moresby|\n",
      "|           null|      20|        Madang|Papua New Guinea|  U| MAG|AYMD|  2|-5.207083|  145.7887|              Madang|      10|Pacific/Port_Moresby|\n",
      "|           null|    5388|   Mount Hagen|Papua New Guinea|  U| HGU|AYMH|  3|-5.826789|144.295861|         Mount Hagen|      10|Pacific/Port_Moresby|\n",
      "|           null|     239|        Nadzab|Papua New Guinea|  U| LAE|AYNZ|  4|-6.569828|146.726242|              Nadzab|      10|Pacific/Port_Moresby|\n",
      "|           null|     146|  Port Moresby|Papua New Guinea|  U| POM|AYPY|  5|-9.443383| 147.22005|Port Moresby Jack...|      10|Pacific/Port_Moresby|\n",
      "|           null|      19|         Wewak|Papua New Guinea|  U| WWK|AYWK|  6|-3.583828|143.669186|          Wewak Intl|      10|Pacific/Port_Moresby|\n",
      "|           null|     112|  Narssarssuaq|       Greenland|  E| UAK|BGBW|  7|61.160517|-45.425978|          Narsarsuaq|      -3|     America/Godthab|\n",
      "|           null|     283|      Godthaab|       Greenland|  E| GOH|BGGH|  8|64.190922|-51.678064|                Nuuk|      -3|     America/Godthab|\n",
      "|           null|     165|   Sondrestrom|       Greenland|  E| SFJ|BGSF|  9|67.016969|-50.689325|   Sondre Stromfjord|      -3|     America/Godthab|\n",
      "|           null|     251|         Thule|       Greenland|  E| THU|BGTL| 10|76.531203|-68.703161|      Thule Air Base|      -4|       America/Thule|\n",
      "|           null|       6|      Akureyri|         Iceland|  N| AEY|BIAR| 11|65.659994|-18.072703|            Akureyri|       0|  Atlantic/Reykjavik|\n",
      "|           null|      76|   Egilsstadir|         Iceland|  N| EGS|BIEG| 12|65.283333|-14.401389|         Egilsstadir|       0|  Atlantic/Reykjavik|\n",
      "|           null|      24|          Hofn|         Iceland|  N| HFN|BIHN| 13|64.295556|-15.227222|        Hornafjordur|       0|  Atlantic/Reykjavik|\n",
      "|           null|      48|       Husavik|         Iceland|  N| HZK|BIHU| 14|65.952328|-17.425978|             Husavik|       0|  Atlantic/Reykjavik|\n",
      "|           null|       8|    Isafjordur|         Iceland|  N| IFJ|BIIS| 15|66.058056|-23.135278|          Isafjordur|       0|  Atlantic/Reykjavik|\n",
      "|           null|     171|      Keflavik|         Iceland|  N| KEF|BIKF| 16|   63.985|-22.605556|Keflavik Internat...|       0|  Atlantic/Reykjavik|\n",
      "|           null|      11|Patreksfjordur|         Iceland|  N| PFJ|BIPA| 17|65.555833|   -23.965|      Patreksfjordur|       0|  Atlantic/Reykjavik|\n",
      "|           null|      48|     Reykjavik|         Iceland|  N| RKV|BIRK| 18|    64.13|-21.940556|           Reykjavik|       0|  Atlantic/Reykjavik|\n",
      "|           null|      10|  Siglufjordur|         Iceland|  N| SIJ|BISI| 19|66.133333|-18.916667|        Siglufjordur|       0|  Atlantic/Reykjavik|\n",
      "|           null|     326|Vestmannaeyjar|         Iceland|  N| VEY|BIVM| 20|63.424303|-20.278875|      Vestmannaeyjar|       0|  Atlantic/Reykjavik|\n",
      "+---------------+--------+--------------+----------------+---+----+----+---+---------+----------+--------------------+--------+--------------------+\n",
      "only showing top 20 rows\n",
      "\n"
     ]
    }
   ],
   "source": [
    "airports = airports.filter(airports['city'].isNotNull())\n",
    "airports.show()"
   ]
  },
  {
   "cell_type": "markdown",
   "metadata": {
    "editable": true
   },
   "source": [
    "### Get only US airports"
   ]
  },
  {
   "cell_type": "code",
   "execution_count": 23,
   "metadata": {
    "editable": true
   },
   "outputs": [
    {
     "name": "stdout",
     "output_type": "stream",
     "text": [
      "+---------------+--------+-------------+-------------+---+----+----+----+----------+------------+--------------------+--------+-------------------+\n",
      "|_corrupt_record|altitude|         city|      country|dst|iata|icao|  id|  latitude|   longitude|                name|timezone|                 tz|\n",
      "+---------------+--------+-------------+-------------+---+----+----+----+----------+------------+--------------------+--------+-------------------+\n",
      "|           null|     842|  Greencastle|United States|  U| 4I7|  \\N|6891|39.6335556| -86.8138056|Putnam County Air...|      -5|   America/New_York|\n",
      "|           null|     748|     Dowagiac|United States|  U| C91|  \\N|6890|41.9929342| -86.1280125|Dowagiac Municipa...|      -5|   America/New_York|\n",
      "|           null|     799|    Cambridge|United States|  U| CDI|  \\N|6889|39.9750278| -81.5775833|Cambridge Municip...|      -5|   America/New_York|\n",
      "|           null|     725| Sturgeon Bay|United States|  U| SUE|  \\N|6885|44.8436667| -87.4215556|Door County Cherr...|      -6|    America/Chicago|\n",
      "|           null|    1000| Stewartstown|United States|  U| 0P2|  \\N|6884|39.7948244| -76.6471914|Shoestring Aviati...|      -5|   America/New_York|\n",
      "|           null|    1497|    Pendleton|United States|  A| PDT|KPDT|6883|    45.695| -118.841389|Eastern Oregon Re...|      -8|America/Los_Angeles|\n",
      "|           null|     110|       Tyonek|United States|  A| TYE|  \\N|6882| 61.076667| -151.138056|      Tyonek Airport|      -9|  America/Anchorage|\n",
      "|           null|    5525|  Riverton WY|United States|  A| RIW|KRIW|6881| 43.064167| -108.459722|   Riverton Regional|      -7|     America/Denver|\n",
      "|           null|    5759|  Montrose CO|United States|  A| MTJ|KMTJ|6880| 38.509794| -107.894242|Montrose Regional...|      -7|     America/Denver|\n",
      "|           null|     670|  Bolingbrook|United States|  U| 1CS|  \\N|6879|41.6959744| -88.1292306|Clow Internationa...|      -6|    America/Chicago|\n",
      "|           null|     742|      Kenosha|United States|  A| ENW|  \\N|6878|42.5956944| -87.9278056|Kenosha Regional ...|      -6|    America/Chicago|\n",
      "|           null|    2205|    Las Vegas|United States|  U| VGT|  \\N|6877|36.2106944|-115.1944444|North Las Vegas A...|      -8|America/Los_Angeles|\n",
      "|           null|     958|   Georgetown|United States|  U|    |KGEO|6876|38.8819456| -83.8827367|Brown County Airport|      -5|   America/New_York|\n",
      "|           null|     835|  Lake Geneva|United States|  U| C02|  \\N|6875|42.6149167| -88.3895833|Grand Geneva Reso...|      -6|    America/Chicago|\n",
      "|           null|     914|      De Kalb|United States|  U| DKB|  \\N|6874|41.9338342| -88.7056864|De Kalb Taylor Mu...|      -6|    America/Chicago|\n",
      "|           null|     606|    Lafayette|United States|  A| LAF|  \\N|6873|40.4123056| -86.9368889|Purude University...|      -5|   America/New_York|\n",
      "|           null|    1040|       Oxford|United States|  U| OXD|  \\N|6872|39.5022607| -84.7843814|Miami University ...|      -5|   America/New_York|\n",
      "|           null|     937|       Muncie|United States|  U| MIE|  \\N|6871|40.2424722|   -85.39575|Delaware County A...|      -5|   America/New_York|\n",
      "|           null|      10|Point Roberts|United States|  A| 1RL|K1RL|6864|48.9797222|-123.0788889|Point Roberts Air...|      -8|America/Los_Angeles|\n",
      "|           null|     707|       Macomb|United States|  U| MQB|  \\N|6861|40.5200833| -90.6523889|Macomb Municipal ...|      -6|    America/Chicago|\n",
      "+---------------+--------+-------------+-------------+---+----+----+----+----------+------------+--------------------+--------+-------------------+\n",
      "only showing top 20 rows\n",
      "\n"
     ]
    }
   ],
   "source": [
    "airports.where(airports['country'] == 'United States').show()"
   ]
  },
  {
   "cell_type": "code",
   "execution_count": 24,
   "metadata": {
    "editable": true
   },
   "outputs": [
    {
     "data": {
      "text/plain": [
       "238"
      ]
     },
     "execution_count": 24,
     "metadata": {},
     "output_type": "execute_result"
    }
   ],
   "source": [
    "### some airports do not have iata, They are probably small airports for local flights \n",
    "airports.where(airports['country'] == 'United States').where(airports['iata'] == '').count()"
   ]
  },
  {
   "cell_type": "code",
   "execution_count": 25,
   "metadata": {
    "editable": true
   },
   "outputs": [
    {
     "name": "stdout",
     "output_type": "stream",
     "text": [
      "+---------------+--------+-------------+-------------+---+----+----+----+----------+------------+--------------------+--------+-------------------+\n",
      "|_corrupt_record|altitude|         city|      country|dst|iata|icao|  id|  latitude|   longitude|                name|timezone|                 tz|\n",
      "+---------------+--------+-------------+-------------+---+----+----+----+----------+------------+--------------------+--------+-------------------+\n",
      "|           null|     842|  Greencastle|United States|  U| 4I7|  \\N|6891|39.6335556| -86.8138056|Putnam County Air...|      -5|   America/New_York|\n",
      "|           null|     748|     Dowagiac|United States|  U| C91|  \\N|6890|41.9929342| -86.1280125|Dowagiac Municipa...|      -5|   America/New_York|\n",
      "|           null|     799|    Cambridge|United States|  U| CDI|  \\N|6889|39.9750278| -81.5775833|Cambridge Municip...|      -5|   America/New_York|\n",
      "|           null|     725| Sturgeon Bay|United States|  U| SUE|  \\N|6885|44.8436667| -87.4215556|Door County Cherr...|      -6|    America/Chicago|\n",
      "|           null|    1000| Stewartstown|United States|  U| 0P2|  \\N|6884|39.7948244| -76.6471914|Shoestring Aviati...|      -5|   America/New_York|\n",
      "|           null|    1497|    Pendleton|United States|  A| PDT|KPDT|6883|    45.695| -118.841389|Eastern Oregon Re...|      -8|America/Los_Angeles|\n",
      "|           null|     110|       Tyonek|United States|  A| TYE|  \\N|6882| 61.076667| -151.138056|      Tyonek Airport|      -9|  America/Anchorage|\n",
      "|           null|    5525|  Riverton WY|United States|  A| RIW|KRIW|6881| 43.064167| -108.459722|   Riverton Regional|      -7|     America/Denver|\n",
      "|           null|    5759|  Montrose CO|United States|  A| MTJ|KMTJ|6880| 38.509794| -107.894242|Montrose Regional...|      -7|     America/Denver|\n",
      "|           null|     670|  Bolingbrook|United States|  U| 1CS|  \\N|6879|41.6959744| -88.1292306|Clow Internationa...|      -6|    America/Chicago|\n",
      "|           null|     742|      Kenosha|United States|  A| ENW|  \\N|6878|42.5956944| -87.9278056|Kenosha Regional ...|      -6|    America/Chicago|\n",
      "|           null|    2205|    Las Vegas|United States|  U| VGT|  \\N|6877|36.2106944|-115.1944444|North Las Vegas A...|      -8|America/Los_Angeles|\n",
      "|           null|     835|  Lake Geneva|United States|  U| C02|  \\N|6875|42.6149167| -88.3895833|Grand Geneva Reso...|      -6|    America/Chicago|\n",
      "|           null|     914|      De Kalb|United States|  U| DKB|  \\N|6874|41.9338342| -88.7056864|De Kalb Taylor Mu...|      -6|    America/Chicago|\n",
      "|           null|     606|    Lafayette|United States|  A| LAF|  \\N|6873|40.4123056| -86.9368889|Purude University...|      -5|   America/New_York|\n",
      "|           null|    1040|       Oxford|United States|  U| OXD|  \\N|6872|39.5022607| -84.7843814|Miami University ...|      -5|   America/New_York|\n",
      "|           null|     937|       Muncie|United States|  U| MIE|  \\N|6871|40.2424722|   -85.39575|Delaware County A...|      -5|   America/New_York|\n",
      "|           null|      10|Point Roberts|United States|  A| 1RL|K1RL|6864|48.9797222|-123.0788889|Point Roberts Air...|      -8|America/Los_Angeles|\n",
      "|           null|     707|       Macomb|United States|  U| MQB|  \\N|6861|40.5200833| -90.6523889|Macomb Municipal ...|      -6|    America/Chicago|\n",
      "|           null|    1201|       Wausau|United States|  U| AUW|  \\N|6853|44.9262845| -89.6270018|Wausau Downtown A...|      -6|    America/Chicago|\n",
      "+---------------+--------+-------------+-------------+---+----+----+----+----------+------------+--------------------+--------+-------------------+\n",
      "only showing top 20 rows\n",
      "\n"
     ]
    }
   ],
   "source": [
    "airports = airports.where(airports['country'] == 'United States').where(airports['iata'] != '')\n",
    "airports.show()"
   ]
  },
  {
   "cell_type": "code",
   "execution_count": 26,
   "metadata": {
    "editable": true
   },
   "outputs": [
    {
     "name": "stdout",
     "output_type": "stream",
     "text": [
      "+-------------+----+--------------------+\n",
      "|         city|iata|                name|\n",
      "+-------------+----+--------------------+\n",
      "|   Youngstown| 04G|   Lansdowne Airport|\n",
      "|     Tuskegee| 06A|Moton Field Munic...|\n",
      "|   Schaumburg| 06C| Schaumburg Regional|\n",
      "|   Middletown| 06N|     Randall Airport|\n",
      "|Jekyll Island| 09J|Jekyll Island Air...|\n",
      "| Elizabethton| 0A9|Elizabethton Muni...|\n",
      "|        Bryan| 0G6|Williams County A...|\n",
      "| Seneca Falls| 0G7|Finger Lakes Regi...|\n",
      "| Stewartstown| 0P2|Shoestring Aviati...|\n",
      "|Port Townsend| 0S9|Jefferson County ...|\n",
      "|  Churchville| 0W3|Harford County Ai...|\n",
      "|    Greenwood| 10C|  Galt Field Airport|\n",
      "|      Bucyrus| 17G|Port Bucyrus-Craw...|\n",
      "|    Jefferson| 19A|Jackson County Ai...|\n",
      "|   Copperhead| 1A3|Martin Campbell F...|\n",
      "|    Mansfield| 1B9| Mansfield Municipal|\n",
      "|    Hollister| 1C9|Frazier Lake Airpark|\n",
      "|  Bolingbrook| 1CS|Clow Internationa...|\n",
      "|         Kent| 1G3|  Kent State Airport|\n",
      "|Peach Springs| 1G4|Grand Canyon West...|\n",
      "+-------------+----+--------------------+\n",
      "only showing top 20 rows\n",
      "\n"
     ]
    }
   ],
   "source": [
    "airports_cleaned = airports.select('city','iata','name').orderBy('iata')\n",
    "airports_cleaned.show()"
   ]
  },
  {
   "cell_type": "code",
   "execution_count": 27,
   "metadata": {
    "editable": true
   },
   "outputs": [
    {
     "name": "stdout",
     "output_type": "stream",
     "text": [
      "+------+------+------+-------+-------+------+-------+-------+-------+------+--------------------+----+--------------------+\n",
      "| i94yr|i94mon|i94cit|i94port|i94mode|i94bir|arrdate|depdate|i94visa|gender|                city|iata|                name|\n",
      "+------+------+------+-------+-------+------+-------+-------+-------+------+--------------------+----+--------------------+\n",
      "|2016.0|   4.0| 582.0|    BGM|    1.0|  56.0|20559.0|20599.0|    1.0|     M|          Binghamton| BGM|Greater Binghamto...|\n",
      "|2016.0|   4.0| 582.0|    FMY|    1.0|  43.0|20559.0|20643.0|    2.0|     F|          Fort Myers| FMY|            Page Fld|\n",
      "|2016.0|   4.0| 582.0|    FOK|    1.0|  37.0|20574.0|20576.0|    2.0|     M|  West Hampton Beach| FOK|  Francis S Gabreski|\n",
      "|2016.0|   4.0| 148.0|    HVR|    3.0|  68.0|20565.0|20576.0|    2.0|     F|               Havre| HVR|       Havre City Co|\n",
      "|2016.0|   4.0| 135.0|    PTK|    1.0|  66.0|20549.0|20551.0|    1.0|     M|             Pontiac| PTK|    Oakland Co. Intl|\n",
      "|2016.0|   4.0| 516.0|    SNA|    1.0|  52.0|20559.0|20577.0|    2.0|     F|           Santa Ana| SNA|John Wayne Arpt O...|\n",
      "|2016.0|   4.0| 528.0|    OPF|    1.0|  54.0|20559.0|20560.0|    2.0|     M|               Miami| OPF|           Opa Locka|\n",
      "|2016.0|   4.0| 574.0|    MYR|    1.0|  56.0|20556.0|20563.0|    2.0|     M|        Myrtle Beach| MYR|   Myrtle Beach Intl|\n",
      "|2016.0|   4.0| 123.0|    PVD|    1.0|  25.0|20568.0|20591.0|    1.0|     M|          Providence| PVD|Theodore Francis ...|\n",
      "|2016.0|   4.0| 582.0|    OAK|    1.0|  61.0|20559.0|20597.0|    2.0|     F|             Oakland| OAK|Metropolitan Oakl...|\n",
      "|2016.0|   4.0| 135.0|    FAR|    1.0|  56.0|20568.0|20575.0|    1.0|     M|               Fargo| FAR|Hector Internatio...|\n",
      "|2016.0|   4.0| 514.0|    DET|    1.0|  33.0|20559.0|20565.0|    2.0|     F|             Detroit| DET|Coleman A Young Muni|\n",
      "|2016.0|   4.0| 108.0|    AGN|    3.0|  53.0|20561.0|20684.0|    2.0|     M|              Angoon| AGN|Angoon Seaplane Base|\n",
      "|2016.0|   4.0| 103.0|    MTH|    1.0|  74.0|20565.0|20586.0|    2.0|     F|            Marathon| MTH|Florida Keys Mara...|\n",
      "|2016.0|   4.0| 689.0|    LEX|    1.0|  39.0|20551.0|20557.0|    2.0|     M|        Lexington KY| LEX|          Blue Grass|\n",
      "|2016.0|   4.0| 111.0|    RIF|    9.0|  39.0|20545.0|20181.0|    2.0|     F|           Richfield| RIF|Richfield Minicip...|\n",
      "|2016.0|   4.0| 135.0|    ADW|    1.0|  57.0|20569.0|20575.0|    1.0|     M|        Camp Springs| ADW|         Andrews Afb|\n",
      "|2016.0|   4.0| 574.0|    VCV|    1.0|  59.0|20559.0|20568.0|    2.0|  null|         Victorville| VCV|Southern Californ...|\n",
      "|2016.0|   4.0| 180.0|    SAV|    1.0|  51.0|20551.0|20553.0|    1.0|     M|            Savannah| SAV|Savannah Hilton H...|\n",
      "|2016.0|   4.0| 130.0|    BED|    1.0|  46.0|20561.0|20564.0|    2.0|     M|             Bedford| BED|Laurence G Hansco...|\n",
      "|2016.0|   4.0| 574.0|    MWH|    1.0|  41.0|20559.0|20562.0|    1.0|     M|Grant County Airport| MWH|       Grant Co Intl|\n",
      "|2016.0|   4.0| 148.0|    YIP|    1.0|  51.0|20569.0|20571.0|    1.0|     M|             Detroit| YIP|          Willow Run|\n",
      "|2016.0|   4.0| 585.0|    RYY|    1.0|  31.0|20562.0|20563.0|    1.0|     M|             Atlanta| RYY|Cobb County Airpo...|\n",
      "|2016.0|   4.0| 209.0|    LIH|    1.0|  58.0|20560.0|20564.0|    2.0|     F|               Lihue| LIH|               Lihue|\n",
      "|2016.0|   4.0| 148.0|    HNS|    3.0|  38.0|20553.0|20681.0|    2.0|     M|              Haines| HNS|      Haines Airport|\n",
      "|2016.0|   4.0| 574.0|    BUF|    1.0|  21.0|20574.0|20648.0|    2.0|     F|             Buffalo| BUF|Buffalo Niagara Intl|\n",
      "|2016.0|   4.0| 746.0|    HPN|    1.0|  50.0|20559.0|20561.0|    1.0|     M|        White Plains| HPN|      Westchester Co|\n",
      "|2016.0|   4.0| 103.0|    AUS|    1.0|  30.0|20560.0|20567.0|    2.0|     F|              Austin| AUS|Austin Bergstrom ...|\n",
      "|2016.0|   4.0| 582.0|    SGR|    1.0|  54.0|20548.0|20566.0|    1.0|     M|          Sugar Land| SGR|Sugar Land Region...|\n",
      "|2016.0|   4.0| 582.0|    ATW|    1.0|  64.0|20549.0|20550.0|    2.0|     M|            Appleton| ATW|            Appleton|\n",
      "|2016.0|   4.0| 694.0|    LWT|    3.0|  44.0|20572.0|20574.0|    2.0|     F|           Lewistown| LWT|Lewistown Municip...|\n",
      "|2016.0|   4.0| 582.0|    RNO|    1.0|  27.0|20559.0|20590.0|    2.0|     M|                Reno| RNO|     Reno Tahoe Intl|\n",
      "|2016.0|   4.0| 689.0|    SRQ|    1.0|  22.0|20559.0|20575.0|    2.0|     F|            Sarasota| SRQ|Sarasota Bradento...|\n",
      "|2016.0|   4.0| 245.0|    FTK|    3.0|  31.0|20555.0|20560.0|    2.0|     M|           Fort Knox| FTK|          Godman Aaf|\n",
      "|2016.0|   4.0| 111.0|    JAC|    1.0|  55.0|20560.0|20568.0|    2.0|     F|         Jacksn Hole| JAC|Jackson Hole Airport|\n",
      "|2016.0|   4.0| 111.0|    RST|    1.0|  55.0|20561.0|20565.0|    2.0|     M|           Rochester| RST|           Rochester|\n",
      "|2016.0|   4.0| 696.0|    CHS|    2.0|  31.0|20559.0|20714.0|    3.0|     F|          Charleston| CHS| Charleston Afb Intl|\n",
      "|2016.0|   4.0| 574.0|    BOS|    1.0|  26.0|20559.0|20565.0|    1.0|  null|              Boston| BOS|General Edward La...|\n",
      "|2016.0|   4.0| 582.0|    MAF|    1.0|  40.0|20570.0|20607.0|    1.0|     M|             Midland| MAF|        Midland Intl|\n",
      "|2016.0|   4.0| 113.0|    MLB|    2.0|  32.0|20560.0|20571.0|    1.0|     M|           Melbourne| MLB|      Melbourne Intl|\n",
      "|2016.0|   4.0| 125.0|    GAL|    2.0|  61.0|20545.0|20549.0|    1.0|     M|              Galena| GAL|   Edward G Pitka Sr|\n",
      "|2016.0|   4.0| 123.0|    DPA|    1.0|  39.0|20574.0|20584.0|    1.0|     M|        West Chicago| DPA|              Dupage|\n",
      "|2016.0|   4.0| 574.0|    INT|    1.0|  60.0|20573.0|20609.0|    1.0|     M|       Winston-salem| INT|      Smith Reynolds|\n",
      "|2016.0|   4.0| 582.0|    DEN|    1.0|  30.0|20559.0|20567.0|    2.0|     M|              Denver| DEN|         Denver Intl|\n",
      "|2016.0|   4.0| 514.0|    NEW|    1.0|  25.0|20559.0|20574.0|    2.0|     M|         New Orleans| NEW|           Lakefront|\n",
      "|2016.0|   4.0| 582.0|    PSP|    1.0|  23.0|20559.0|20564.0|    2.0|     M|        Palm Springs| PSP|   Palm Springs Intl|\n",
      "|2016.0|   4.0| 111.0|    SGJ|    1.0|  61.0|20567.0|20649.0|    2.0|     F|       St. Augustine| SGJ|St. Augustine Air...|\n",
      "|2016.0|   4.0| 582.0|    LAR|    1.0|  53.0|20559.0|20560.0|    2.0|     M|             Laramie| LAR|Laramie Regional ...|\n",
      "|2016.0|   4.0| 582.0|    BRO|    1.0|  30.0|20559.0|20565.0|    2.0|     F|         Brownsville| BRO|Brownsville South...|\n",
      "|2016.0|   4.0| 692.0|    CLM|    1.0|  16.0|20559.0|20566.0|    2.0|     M|        Port Angeles| CLM|William R Fairchi...|\n",
      "|2016.0|   4.0| 520.0|    SEA|    1.0|  68.0|20559.0|20576.0|    1.0|     M|             Seattle| SEA| Seattle Tacoma Intl|\n",
      "|2016.0|   4.0| 112.0|    LAN|    9.0|  14.0|20553.0|20667.0|    2.0|     X|             Lansing| LAN|        Capital City|\n",
      "|2016.0|   4.0| 135.0|    PSM|    1.0|  77.0|20571.0|20599.0|    2.0|     F|          Portsmouth| PSM|Pease Internation...|\n",
      "|2016.0|   4.0| 108.0|    PIR|    3.0|  70.0|20566.0|20569.0|    2.0|     F|              Pierre| PIR|Pierre Regional A...|\n",
      "|2016.0|   4.0| 104.0|    AND|    3.0|  12.0|20564.0|20599.0|    1.0|     F|            Andersen| AND|       Anderson Rgnl|\n",
      "|2016.0|   4.0| 514.0|    CLT|    1.0|  56.0|20559.0|20587.0|    2.0|     F|           Charlotte| CLT|Charlotte Douglas...|\n",
      "|2016.0|   4.0| 582.0|    ADS|    1.0|  87.0|20555.0|20616.0|    1.0|     F|             Addison| ADS|             Addison|\n",
      "|2016.0|   4.0| 266.0|    ABQ|    1.0|  20.0|20572.0|20590.0|    3.0|     F|         Albuquerque| ABQ|Albuquerque Inter...|\n",
      "|2016.0|   4.0| 103.0|    PIE|    3.0|  68.0|20563.0|20564.0|    2.0|     F|      St. Petersburg| PIE|St Petersburg Cle...|\n",
      "|2016.0|   4.0| 582.0|    BDL|    1.0|  60.0|20559.0|20561.0|    2.0|     M|       Windsor Locks| BDL|        Bradley Intl|\n",
      "|2016.0|   4.0| 514.0|    DAL|    1.0|  46.0|20559.0|20575.0|    2.0|     F|              Dallas| DAL|     Dallas Love Fld|\n",
      "|2016.0|   4.0| 582.0|    APF|    1.0|  36.0|20549.0|20550.0|    1.0|     M|              Naples| APF|         Naples Muni|\n",
      "|2016.0|   4.0| 691.0|    CLE|    1.0|  57.0|20559.0|20563.0|    2.0|     M|           Cleveland| CLE|Cleveland Hopkins...|\n",
      "|2016.0|   4.0| 513.0|    MIA|    1.0|  47.0|20559.0|20561.0|    2.0|     M|               Miami| MIA|          Miami Intl|\n",
      "|2016.0|   4.0| 514.0|    SFB|    1.0|  49.0|20559.0|20560.0|    2.0|     M|             Sanford| SFB|Orlando Sanford Intl|\n",
      "|2016.0|   4.0| 148.0|    DVL|    3.0|  56.0|20573.0|20593.0|    2.0|     F|         Devils Lake| DVL|Devils Lake Regio...|\n",
      "|2016.0|   4.0| 124.0|    FCA|    1.0|  31.0|20570.0|20586.0|    1.0|     F|           Kalispell| FCA|   Glacier Park Intl|\n",
      "|2016.0|   4.0| 582.0|    PHO|    1.0|  23.0|20559.0|20563.0|    2.0|     M|          Point Hope| PHO|  Point Hope Airport|\n",
      "|2016.0|   4.0| 691.0|    STL|    1.0|  45.0|20559.0|20564.0|    2.0|     M|           St. Louis| STL|Lambert St Louis ...|\n",
      "|2016.0|   4.0| 582.0|    MHT|    1.0|  46.0|20550.0|20551.0|    2.0|     F|       Manchester NH| MHT|Manchester Region...|\n",
      "|2016.0|   4.0| 582.0|    GSP|    1.0|  39.0|20569.0|20612.0|    1.0|     M|          Greenville| GSP|Greenville-Sparta...|\n",
      "|2016.0|   4.0| 582.0|    SAA|    1.0|  58.0|20559.0|20568.0|    2.0|     F|            SARATOGA| SAA|Shively Field Air...|\n",
      "|2016.0|   4.0| 516.0|    CRP|    1.0|  56.0|20570.0|20578.0|    1.0|     M|      Corpus Christi| CRP| Corpus Christi Intl|\n",
      "|2016.0|   4.0| 107.0|    LUK|    3.0|  63.0|20560.0|20646.0|    2.0|     F|          Cincinnati| LUK|Cincinnati Muni L...|\n",
      "|2016.0|   4.0| 582.0|    SDP|    1.0|  37.0|20559.0|20594.0|    2.0|     M|          Sand Point| SDP|  Sand Point Airport|\n",
      "|2016.0|   4.0| 103.0|    CLS|    3.0|  55.0|20568.0|20576.0|    2.0|     M|            Chehalis| CLS|  Chehalis-Centralia|\n",
      "|2016.0|   4.0| 116.0|    SWF|    1.0|  59.0|20549.0|20567.0|    2.0|     F|            Newburgh| SWF|        Stewart Intl|\n",
      "|2016.0|   4.0| 213.0|    MEM|    1.0|  67.0|20573.0|20687.0|    2.0|     F|             Memphis| MEM|        Memphis Intl|\n",
      "|2016.0|   4.0| 582.0|    ELP|    1.0|  56.0|20559.0|20561.0|    1.0|     M|             El Paso| ELP|        El Paso Intl|\n",
      "|2016.0|   4.0| 582.0|    SAC|    1.0|  35.0|20559.0|20562.0|    2.0|     M|          Sacramento| SAC|Sacramento Executive|\n",
      "|2016.0|   4.0| 514.0|    ATL|    1.0|  30.0|20559.0|20575.0|    2.0|  null|             Atlanta| ATL|Hartsfield Jackso...|\n",
      "|2016.0|   4.0| 111.0|    WAL|    3.0|  24.0|20568.0|20570.0|    2.0|     F|      Wallops Island| WAL|Wallops Flight Fa...|\n",
      "|2016.0|   4.0| 694.0|    PHF|    1.0|  54.0|20560.0|20587.0|    2.0|     F|        Newport News| PHF|Newport News Will...|\n",
      "|2016.0|   4.0| 273.0|    OMA|    1.0|  42.0|20573.0|20577.0|    1.0|     M|               Omaha| OMA|         Eppley Afld|\n",
      "|2016.0|   4.0| 251.0|    MMU|    1.0|  64.0|20570.0|20573.0|    1.0|     M|          Morristown| MMU|Morristown Munici...|\n",
      "|2016.0|   4.0| 516.0|    WAS|    1.0|  48.0|20559.0|20562.0|    2.0|     M|          Washington| WAS|        All Airports|\n",
      "|2016.0|   4.0| 111.0|    TKI|    1.0|  59.0|20569.0|20572.0|    1.0|     M|              DALLAS| TKI|Collin County Reg...|\n",
      "|2016.0|   4.0| 135.0|    CAE|    1.0|  42.0|20547.0|20550.0|    2.0|     M|            Columbia| CAE|Columbia Metropol...|\n",
      "|2016.0|   4.0| 582.0|    ICT|    1.0|  67.0|20555.0|20556.0|    1.0|     M|             Wichita| ICT|Wichita Mid Conti...|\n",
      "|2016.0|   4.0| 108.0|    RDU|    1.0|  30.0|20560.0|20564.0|    2.0|     M|      Raleigh-durham| RDU| Raleigh Durham Intl|\n",
      "|2016.0|   4.0| 103.0|    SKA|    3.0|  47.0|20570.0|20576.0|    2.0|     M|             Spokane| SKA|       Fairchild Afb|\n",
      "|2016.0|   4.0| 111.0|    SYR|    1.0|  49.0|20560.0|20568.0|    2.0|     M|            Syracuse| SYR|Syracuse Hancock ...|\n",
      "|2016.0|   4.0| 148.0|    HSV|    1.0|  29.0|20560.0|20567.0|    1.0|     F|          Huntsville| HSV|Huntsville Intern...|\n",
      "|2016.0|   4.0| 689.0|    PIT|    1.0|  58.0|20559.0|20579.0|    2.0|     M|          Pittsburgh| PIT|     Pittsburgh Intl|\n",
      "|2016.0|   4.0| 582.0|    LOU|    1.0|  50.0|20560.0|20569.0|    1.0|     M|          Louisville| LOU|          Bowman Fld|\n",
      "|2016.0|   4.0| 582.0|    KOA|    1.0|  64.0|20559.0|20566.0|    2.0|     F|                Kona| KOA|Kona Intl At Keahole|\n",
      "|2016.0|   4.0| 574.0|    VNY|    1.0|  52.0|20555.0|20559.0|    2.0|     M|            Van Nuys| VNY|            Van Nuys|\n",
      "|2016.0|   4.0| 117.0|    CHA|    1.0|  35.0|20549.0|20553.0|    2.0|     F|         Chattanooga| CHA|          Lovell Fld|\n",
      "|2016.0|   4.0| 514.0|    HOU|    1.0|  34.0|20559.0|20574.0|    2.0|     F|             Houston| HOU|     William P Hobby|\n",
      "|2016.0|   4.0| 123.0|    FWA|    3.0|  68.0|20562.0|20651.0|    2.0|     F|          Fort Wayne| FWA|          Fort Wayne|\n",
      "|2016.0|   4.0| 245.0|    MDT|    1.0|  23.0|20560.0|20572.0|    2.0|     M|          Harrisburg| MDT|     Harrisburg Intl|\n",
      "|2016.0|   4.0| 582.0|    ONT|    1.0|  49.0|20559.0|20569.0|    2.0|     M|             Ontario| ONT|        Ontario Intl|\n",
      "|2016.0|   4.0| 111.0|    ROC|    1.0|  44.0|20560.0|20565.0|    2.0|  null|           Rochester| ROC|Greater Rochester...|\n",
      "|2016.0|   4.0| 513.0|    CHI|    1.0|  30.0|20559.0|20562.0|    2.0|     F|             Chicago| CHI|        All Airports|\n",
      "|2016.0|   4.0| 101.0|    LEW|    3.0|  50.0|20574.0|20576.0|    2.0|     F|            Lewiston| LEW|      Lewiston Maine|\n",
      "|2016.0|   4.0| 582.0|    ANC|    1.0|  38.0|20559.0|20661.0|    1.0|     F|           Anchorage| ANC|Ted Stevens Ancho...|\n",
      "|2016.0|   4.0| 522.0|    DAB|    1.0|  79.0|20559.0|20566.0|    2.0|     M|       Daytona Beach| DAB|  Daytona Beach Intl|\n",
      "|2016.0|   4.0| 582.0|    OGG|    1.0|   2.0|20559.0|20566.0|    2.0|     F|             Kahului| OGG|             Kahului|\n",
      "|2016.0|   4.0| 513.0|    ORL|    1.0|  53.0|20559.0|20566.0|    2.0|     M|             Orlando| ORL|           Executive|\n",
      "|2016.0|   4.0| 135.0|    SHR|    3.0|  40.0|20566.0|20581.0|    2.0|     F|            Sheridan| SHR|Sheridan County A...|\n",
      "|2016.0|   4.0| 582.0|    SLC|    1.0|  75.0|20559.0|20594.0|    2.0|     F|      Salt Lake City| SLC| Salt Lake City Intl|\n",
      "|2016.0|   4.0| 512.0|    NYC|    1.0|  51.0|20558.0|20573.0|    2.0|     F|            New York| NYC|        All Airports|\n",
      "+------+------+------+-------+-------+------+-------+-------+-------+------+--------------------+----+--------------------+\n",
      "\n"
     ]
    }
   ],
   "source": [
    "us_port_codes = us_immigration_clean.dropDuplicates(['i94port'])\n",
    "us_port_codes.join(airports_cleaned,us_port_codes['i94port'] == airports_cleaned['iata'] ).show(200)"
   ]
  },
  {
   "cell_type": "markdown",
   "metadata": {
    "editable": true
   },
   "source": [
    "### Conceptual Data Model"
   ]
  },
  {
   "cell_type": "markdown",
   "metadata": {
    "editable": true
   },
   "source": [
    "![image](star_schema.png)"
   ]
  },
  {
   "cell_type": "markdown",
   "metadata": {
    "editable": true
   },
   "source": [
    "The data was modeled using the star schema with:\n",
    "\n",
    "**Fact Table**:  \n",
    " - fact_immigration\n",
    " \n",
    "**Dimenstion Tables**:  \n",
    " - dim_demographics \n",
    " - dim_city  \n",
    " - dim_temperature  \n",
    " - dim_visa  "
   ]
  },
  {
   "cell_type": "markdown",
   "metadata": {
    "editable": true
   },
   "source": [
    "### Data Pipline Steps"
   ]
  },
  {
   "cell_type": "markdown",
   "metadata": {
    "editable": true
   },
   "source": [
    "##### Create dim_temperature Table \n",
    "1. Read data from `GlobalLandTemperaturesByCity.csv` file  \n",
    "2. Drop doplicates by city  \n",
    "3. Drop rows with  null average temperature  \n",
    "4. select relevant columns according to data model  \n",
    "5. save to parquet files  \n"
   ]
  },
  {
   "cell_type": "markdown",
   "metadata": {
    "editable": true
   },
   "source": [
    "##### Create  dim_demographics Table \n",
    "1. Read data from `us-cities-demographics.csv` file  \n",
    "2. Drop doplicates by city   \n",
    "3. select relevant columns according to data model  \n",
    "4. save to parquet files  \n"
   ]
  },
  {
   "cell_type": "markdown",
   "metadata": {
    "editable": true
   },
   "source": [
    "##### Create  dim_city Table\n",
    "This is created from the resulting data frame from which dim_demographics is created\n",
    "1. select relevant columns according to data model  \n",
    "2. save to parquet files  \n"
   ]
  },
  {
   "cell_type": "markdown",
   "metadata": {
    "editable": true
   },
   "source": [
    "##### Create  fact_immigration Table\n",
    "1. Read data from `sas_data` file\n",
    "2. join data with data of airports to get the city as a column using iata\n",
    "3. select relevant columns according to data model\n",
    "4. rename columns according to data model\n",
    "5. save to parquet files  "
   ]
  },
  {
   "cell_type": "markdown",
   "metadata": {
    "editable": true
   },
   "source": [
    "##### Create  dim_visa Table\n",
    "This is created from the resulting data frame from which dim_demographics is created\n",
    "1. select relevant columns according to data model  \n",
    "2. group according to code and type\n",
    "3. drop duplicates\n",
    "4. select relevant columns according to data model\n",
    "5. save to parquet files"
   ]
  },
  {
   "cell_type": "markdown",
   "metadata": {
    "editable": true
   },
   "source": [
    "### Pipelines to Model the Data "
   ]
  },
  {
   "cell_type": "code",
   "execution_count": 28,
   "metadata": {
    "editable": true
   },
   "outputs": [],
   "source": [
    "from pyspark.sql.functions import col\n",
    "import configparser\n",
    "\n",
    "config = configparser.ConfigParser()\n",
    "config.read('dl.cfg')\n",
    "\n",
    "os.environ['AWS_ACCESS_KEY_ID']=config['AWS']['AWS_ACCESS_KEY_ID']\n",
    "os.environ['AWS_SECRET_ACCESS_KEY']=config['AWS']['AWS_SECRET_ACCESS_KEY']\n",
    "\n",
    "output_path = \"s3a://karikari-udacity/capstone-outputs/\"\n",
    "\n",
    "\n"
   ]
  },
  {
   "cell_type": "code",
   "execution_count": 37,
   "metadata": {
    "editable": true
   },
   "outputs": [
    {
     "name": "stdout",
     "output_type": "stream",
     "text": [
      "+----------+-------------------+-------------+--------+---------+\n",
      "|      city|average_temperature|      country|latitude|longitude|\n",
      "+----------+-------------------+-------------+--------+---------+\n",
      "|Charleston|             13.918|United States|  32.95N|   79.47W|\n",
      "|    Corona|             13.116|United States|  32.95N|  117.77W|\n",
      "| Hollywood|             19.761|United States|  26.52N|   80.60W|\n",
      "+----------+-------------------+-------------+--------+---------+\n",
      "only showing top 3 rows\n",
      "\n",
      "root\n",
      " |-- city: string (nullable = true)\n",
      " |-- average_temperature: string (nullable = true)\n",
      " |-- country: string (nullable = true)\n",
      " |-- latitude: string (nullable = true)\n",
      " |-- longitude: string (nullable = true)\n",
      "\n"
     ]
    }
   ],
   "source": [
    "# create temperature step\n",
    "\n",
    "temp_data = spark.read.format(\"csv\").option(\"header\", \"true\").load('GlobalLandTemperaturesByCity.csv')\n",
    "temp_data_clean=temp_data.where(temp_data['AverageTemperature'].isNotNull()) \\\n",
    "         .where(temp_data['Country'] == 'United States').dropDuplicates(['City']) \\\n",
    ".select(\n",
    "    col('City').alias('city'),\n",
    "    col('AverageTemperature').alias('average_temperature'),\n",
    "    col('Country').alias('country'),\n",
    "    col('Latitude').alias('latitude'),\n",
    "    col('Longitude').alias('longitude'),\n",
    ")\n",
    "\n",
    "temp_data_clean.show(3)\n",
    "temp_data_clean.printSchema()\n",
    "temp_data_clean.write.parquet(output_path+'dim_temperature.parquet','overwrite')"
   ]
  },
  {
   "cell_type": "code",
   "execution_count": 44,
   "metadata": {
    "editable": true
   },
   "outputs": [
    {
     "name": "stdout",
     "output_type": "stream",
     "text": [
      "+------------+-------------+------+-----+-------+----------------+---------------+------------+--------------+\n",
      "|        city|        state|median|males|females|total_population|num_of_veterans|foreign_born|avg_house_size|\n",
      "+------------+-------------+------+-----+-------+----------------+---------------+------------+--------------+\n",
      "|Saint George|         Utah|  37.3|38732|  41475|           80207|           4443|        4824|          2.81|\n",
      "|       Tyler|        Texas|  33.9|50422|  53283|          103705|           4813|        8225|          2.59|\n",
      "|   Worcester|Massachusetts|  34.9|90951|  93855|          184806|           9408|       36907|          2.43|\n",
      "+------------+-------------+------+-----+-------+----------------+---------------+------------+--------------+\n",
      "only showing top 3 rows\n",
      "\n",
      "root\n",
      " |-- city: string (nullable = true)\n",
      " |-- state: string (nullable = true)\n",
      " |-- median: string (nullable = true)\n",
      " |-- males: string (nullable = true)\n",
      " |-- females: string (nullable = true)\n",
      " |-- total_population: string (nullable = true)\n",
      " |-- num_of_veterans: string (nullable = true)\n",
      " |-- foreign_born: string (nullable = true)\n",
      " |-- avg_house_size: string (nullable = true)\n",
      "\n"
     ]
    }
   ],
   "source": [
    "# create dim_demographics step\n",
    "\n",
    "demograph_data = spark.read.format(\"csv\").option(\"header\", \"true\").load('us-cities-demographics.csv',sep=';')\n",
    "\n",
    "demograph_data_clean = demograph_data.dropDuplicates(['City'])\n",
    "demograph_data_table= demograph_data_clean.select(\n",
    "    col('City').alias('city'),\n",
    "    col('State').alias('state'),\n",
    "    col('Median Age').alias('median'),\n",
    "    col('Male Population').alias('males'),\n",
    "    col('Female Population').alias('females'),\n",
    "    col('Total Population').alias('total_population'),\n",
    "    col('Number of Veterans').alias('num_of_veterans'),\n",
    "    col('Foreign-born').alias('foreign_born'),\n",
    "    col('Average Household Size').alias('avg_house_size'))\n",
    "demograph_data_table.show(3)\n",
    "demograph_data_table.printSchema()\n",
    "demograph_data_table.write.parquet(output_path+'dim_demographics.parquet','overwrite')"
   ]
  },
  {
   "cell_type": "code",
   "execution_count": 45,
   "metadata": {
    "editable": true
   },
   "outputs": [
    {
     "name": "stdout",
     "output_type": "stream",
     "text": [
      "+------------+-------------+----------+\n",
      "|        city|        state|state_code|\n",
      "+------------+-------------+----------+\n",
      "|Saint George|         Utah|        UT|\n",
      "|       Tyler|        Texas|        TX|\n",
      "|   Worcester|Massachusetts|        MA|\n",
      "+------------+-------------+----------+\n",
      "only showing top 3 rows\n",
      "\n",
      "root\n",
      " |-- city: string (nullable = true)\n",
      " |-- state: string (nullable = true)\n",
      " |-- state_code: string (nullable = true)\n",
      "\n"
     ]
    }
   ],
   "source": [
    "# create dim_city\n",
    "\n",
    "city = demograph_data_clean.select(\n",
    "    'city',\n",
    "    'state',\n",
    "    col('State Code').alias('state_code'))\n",
    "city.show(3)\n",
    "city.printSchema()\n",
    "city.write.parquet(output_path+'dim_city.parquet','overwrite')"
   ]
  },
  {
   "cell_type": "code",
   "execution_count": 46,
   "metadata": {
    "editable": true
   },
   "outputs": [
    {
     "name": "stdout",
     "output_type": "stream",
     "text": [
      "+------+---------+-----------+------------+--------------+----+---------+------+\n",
      "|  year|port_iata|       city|arrival_date|departure_date| age|visa_code|gender|\n",
      "+------+---------+-----------+------------+--------------+----+---------+------+\n",
      "|2016.0|      HOU|    Houston|     20574.0|       20581.0|27.0|      2.0|     M|\n",
      "|2016.0|      NEW|New Orleans|     20574.0|       20576.0|44.0|      2.0|     M|\n",
      "|2016.0|      WAS| Washington|     20574.0|       20596.0|38.0|      2.0|     M|\n",
      "+------+---------+-----------+------------+--------------+----+---------+------+\n",
      "only showing top 3 rows\n",
      "\n",
      "root\n",
      " |-- year: double (nullable = true)\n",
      " |-- port_iata: string (nullable = true)\n",
      " |-- city: string (nullable = true)\n",
      " |-- arrival_date: double (nullable = true)\n",
      " |-- departure_date: double (nullable = true)\n",
      " |-- age: double (nullable = true)\n",
      " |-- visa_code: double (nullable = true)\n",
      " |-- gender: string (nullable = true)\n",
      "\n"
     ]
    }
   ],
   "source": [
    "# Create fact_immigration\n",
    "us_immigration = spark.read.parquet(\"sas_data\")\n",
    "us_immigration_clean = us_immigration.where(us_immigration['depdate'].isNotNull())\n",
    "\n",
    "# create airport data for joining\n",
    "airports = spark.read.json('airports.json')\n",
    "airports_cleaned= airports.select('city','iata','name').orderBy('iata')\\\n",
    ".filter(airports['city'].isNotNull())\\\n",
    ".where(airports['country'] == 'United States')\\\n",
    ".where(airports['iata'] != '')\n",
    "\n",
    "us_immigration_join = us_immigration_clean.join(airports_cleaned,us_immigration_clean['i94port'] == airports_cleaned['iata'] )\n",
    "us_immigration_table = us_immigration_join.select(\n",
    "    col('i94yr').alias('year'),\n",
    "    col('i94port').alias('port_iata'),\n",
    "    'city',\n",
    "    col('arrdate').alias('arrival_date'),\n",
    "    col('depdate').alias('departure_date'),\n",
    "    col('i94bir').alias('age'),\n",
    "    col('i94visa').alias('visa_code'),\n",
    "    'gender'\n",
    ")\n",
    "us_immigration_table.show(3)\n",
    "us_immigration_table.printSchema()\n",
    "us_immigration_table.write.parquet(output_path+'dim_immigration.parquet','overwrite')"
   ]
  },
  {
   "cell_type": "code",
   "execution_count": 50,
   "metadata": {
    "editable": true
   },
   "outputs": [
    {
     "name": "stdout",
     "output_type": "stream",
     "text": [
      "+---------+----+\n",
      "|visa_code|type|\n",
      "+---------+----+\n",
      "|      1.0|  B1|\n",
      "|      2.0|  WT|\n",
      "|      1.0|  E2|\n",
      "+---------+----+\n",
      "only showing top 3 rows\n",
      "\n",
      "root\n",
      " |-- visa_code: double (nullable = true)\n",
      " |-- type: string (nullable = true)\n",
      "\n"
     ]
    }
   ],
   "source": [
    "# Create dim_visa\n",
    "\n",
    "visa_data = us_immigration_join.select(\n",
    "    col('i94visa').alias('visa_code'),\n",
    "    col('visatype').alias('type')).dropDuplicates()\n",
    "visa_data.show(3)\n",
    "visa_data.printSchema()\n",
    "visa_data.write.parquet(output_path+'dim_immigration.parquet','overwrite')"
   ]
  },
  {
   "cell_type": "markdown",
   "metadata": {
    "editable": true
   },
   "source": [
    "### Data Quality Checks\n",
    "\n",
    "After runing the pipeline two data quality checks are perfomed.\n",
    "- Check if data are saved to s3\n",
    "- check if data table contains data"
   ]
  },
  {
   "cell_type": "code",
   "execution_count": null,
   "metadata": {
    "editable": true
   },
   "outputs": [],
   "source": [
    "data_sources = ['fact_immigration.parquet','dim_temperature.parquet','dim_city.paruet','dim_visa.parquet','dim_demographics.parquet']\n",
    "\n",
    "for source in data_sources:\n",
    "    try:\n",
    "        data = spark.read.parquet(output_path+source)\n",
    "    except:\n",
    "        raise ValueError(f\"Data quality check failed. {source} is not created on s3\")\n",
    "        \n",
    "    data.count() < 1:\n",
    "        raise ValueError(f\"Data quality check failed. {source} returned no results\")"
   ]
  },
  {
   "cell_type": "markdown",
   "metadata": {
    "editable": true
   },
   "source": [
    "### Data Dictionary\n",
    "dim_temperature\n",
    "- **city**: name of city\n",
    "- **average_temperature**: average temperature of the city\n",
    "- **country**: country where the city belongs\n",
    "- **latitude**: latitdue of the city\n",
    "- **longitude**: longitude of the city\n",
    "\n",
    "dim_demographics\n",
    "- **city**: name of city\n",
    "- **state**: name of city state\n",
    "- **median**: median age\n",
    "- **males**: male population\n",
    "- **females**:  females population\n",
    "- **total_population**:  total population\n",
    "- **num_of_veterans**:  number of veterans\n",
    "- **foreign_born**: foriegn born\n",
    "- **avg_house_size**: Average family house size\n",
    "\n",
    "dim_city\n",
    "- **city**: name of city\n",
    "- **state**: name of city state\n",
    "- **state_code**: code of the state\n",
    "\n",
    "fact_immigration \n",
    "- **year**: year of immigration\n",
    "- **port_iata**: iata port code\n",
    "- **city**: name of city\n",
    "- **arrival_date**: arrival date of respondant\n",
    "- **departure_date**: departure date of respondant\n",
    "- **age: age of respondant\n",
    "- **visa_code**: Visa code to represent visa type Business/Pleasure/Student\n",
    "- **gender**: \n",
    "\n",
    "dim_visa\n",
    "- **visa_code**: visa code to represent visa type Business/Pleasure/Student\n",
    "- **type**: visa type "
   ]
  },
  {
   "cell_type": "markdown",
   "metadata": {
    "editable": true
   },
   "source": [
    "# Conclusion"
   ]
  },
  {
   "cell_type": "markdown",
   "metadata": {
    "editable": true
   },
   "source": [
    "The project was performed with spark as the processing tool and s3 as storage\n",
    "spark was chosen because of it's ability to processing huge amount of data very fast\n",
    "and s3 was chosen because of its durable data storage and the chance to use other amazon tools on the \n",
    "data if needed.\n",
    "\n",
    "The star schema used to model the data since it's makes it easy to query the data \n",
    "and also makes thinking about the data much easier for analysts/data scientists.\n",
    "\n",
    "The pipeline will be run as a batch job, this means it has to be requested by the analyst or data scientist,\n",
    "they can suggest a periodic update if needed.\n",
    "\n",
    "In case the data is increased by 100x the ETL pipeline script can be deployed on Amazon EMR with spark installed,\n",
    "The spark workers will be configured for autoscaling if more computing power is needed.\n",
    "\n",
    "If the data needs to be updated periodically like 7 am every morning,\n",
    "a cron job can be setup to run the pipeline or if more control is needed, an automation tool like airflow can be used.\n",
    "\n",
    "If the data needs to be read by 100 people, it will depend on the BI/dashboard tools using the data as a source.\n",
    "The data is stored on s3 so any number of dashboard applications can read from it."
   ]
  },
  {
   "cell_type": "code",
   "execution_count": null,
   "metadata": {
    "editable": true
   },
   "outputs": [],
   "source": []
  }
 ],
 "metadata": {
  "kernelspec": {
   "display_name": "Python 3",
   "language": "python",
   "name": "python3"
  },
  "language_info": {
   "codemirror_mode": {
    "name": "ipython",
    "version": 3
   },
   "file_extension": ".py",
   "mimetype": "text/x-python",
   "name": "python",
   "nbconvert_exporter": "python",
   "pygments_lexer": "ipython3",
   "version": "3.6.3"
  }
 },
 "nbformat": 4,
 "nbformat_minor": 4
}
